{
 "cells": [
  {
   "cell_type": "markdown",
   "id": "281ec35e",
   "metadata": {
    "papermill": {
     "duration": 0.01042,
     "end_time": "2022-10-30T15:01:10.528593",
     "exception": false,
     "start_time": "2022-10-30T15:01:10.518173",
     "status": "completed"
    },
    "tags": []
   },
   "source": [
    "**This notebook is an exercise in the [Intermediate Machine Learning](https://www.kaggle.com/learn/intermediate-machine-learning) course.  You can reference the tutorial at [this link](https://www.kaggle.com/alexisbcook/missing-values).**\n",
    "\n",
    "---\n"
   ]
  },
  {
   "cell_type": "markdown",
   "id": "03826fe4",
   "metadata": {
    "papermill": {
     "duration": 0.008203,
     "end_time": "2022-10-30T15:01:10.545805",
     "exception": false,
     "start_time": "2022-10-30T15:01:10.537602",
     "status": "completed"
    },
    "tags": []
   },
   "source": [
    "Now it's your turn to test your new knowledge of **missing values** handling. You'll probably find it makes a big difference.\n",
    "\n",
    "# Setup\n",
    "\n",
    "The questions will give you feedback on your work. Run the following cell to set up the feedback system."
   ]
  },
  {
   "cell_type": "code",
   "execution_count": 1,
   "id": "30a09182",
   "metadata": {
    "execution": {
     "iopub.execute_input": "2022-10-30T15:01:10.565760Z",
     "iopub.status.busy": "2022-10-30T15:01:10.564877Z",
     "iopub.status.idle": "2022-10-30T15:01:10.642838Z",
     "shell.execute_reply": "2022-10-30T15:01:10.641311Z"
    },
    "papermill": {
     "duration": 0.092463,
     "end_time": "2022-10-30T15:01:10.646833",
     "exception": false,
     "start_time": "2022-10-30T15:01:10.554370",
     "status": "completed"
    },
    "tags": []
   },
   "outputs": [
    {
     "name": "stdout",
     "output_type": "stream",
     "text": [
      "Setup Complete\n"
     ]
    }
   ],
   "source": [
    "# Set up code checking\n",
    "import os\n",
    "if not os.path.exists(\"../input/train.csv\"):\n",
    "    os.symlink(\"../input/home-data-for-ml-course/train.csv\", \"../input/train.csv\")  \n",
    "    os.symlink(\"../input/home-data-for-ml-course/test.csv\", \"../input/test.csv\") \n",
    "from learntools.core import binder\n",
    "binder.bind(globals())\n",
    "from learntools.ml_intermediate.ex2 import *\n",
    "print(\"Setup Complete\")"
   ]
  },
  {
   "cell_type": "markdown",
   "id": "d697e3ff",
   "metadata": {
    "papermill": {
     "duration": 0.00849,
     "end_time": "2022-10-30T15:01:10.665097",
     "exception": false,
     "start_time": "2022-10-30T15:01:10.656607",
     "status": "completed"
    },
    "tags": []
   },
   "source": [
    "In this exercise, you will work with data from the [Housing Prices Competition for Kaggle Learn Users](https://www.kaggle.com/c/home-data-for-ml-course). \n",
    "\n",
    "![Ames Housing dataset image](https://i.imgur.com/lTJVG4e.png)\n",
    "\n",
    "Run the next code cell without changes to load the training and validation sets in `X_train`, `X_valid`, `y_train`, and `y_valid`.  The test set is loaded in `X_test`."
   ]
  },
  {
   "cell_type": "code",
   "execution_count": 2,
   "id": "5b420e70",
   "metadata": {
    "execution": {
     "iopub.execute_input": "2022-10-30T15:01:10.690428Z",
     "iopub.status.busy": "2022-10-30T15:01:10.689910Z",
     "iopub.status.idle": "2022-10-30T15:01:12.195912Z",
     "shell.execute_reply": "2022-10-30T15:01:12.194222Z"
    },
    "papermill": {
     "duration": 1.521838,
     "end_time": "2022-10-30T15:01:12.199055",
     "exception": false,
     "start_time": "2022-10-30T15:01:10.677217",
     "status": "completed"
    },
    "tags": []
   },
   "outputs": [],
   "source": [
    "import pandas as pd\n",
    "from sklearn.model_selection import train_test_split\n",
    "\n",
    "# Read the data\n",
    "X_full = pd.read_csv('../input/train.csv', index_col='Id')\n",
    "X_test_full = pd.read_csv('../input/test.csv', index_col='Id')\n",
    "\n",
    "# Remove rows with missing target, separate target from predictors\n",
    "X_full.dropna(axis=0, subset=['SalePrice'], inplace=True)\n",
    "y = X_full.SalePrice\n",
    "X_full.drop(['SalePrice'], axis=1, inplace=True)\n",
    "\n",
    "# To keep things simple, we'll use only numerical predictors\n",
    "X = X_full.select_dtypes(exclude=['object'])\n",
    "X_test = X_test_full.select_dtypes(exclude=['object'])\n",
    "\n",
    "# Break off validation set from training data\n",
    "X_train, X_valid, y_train, y_valid = train_test_split(X, y, train_size=0.8, test_size=0.2,\n",
    "                                                      random_state=0)"
   ]
  },
  {
   "cell_type": "markdown",
   "id": "7c51a0ac",
   "metadata": {
    "papermill": {
     "duration": 0.008796,
     "end_time": "2022-10-30T15:01:12.218721",
     "exception": false,
     "start_time": "2022-10-30T15:01:12.209925",
     "status": "completed"
    },
    "tags": []
   },
   "source": [
    "Use the next code cell to print the first five rows of the data."
   ]
  },
  {
   "cell_type": "code",
   "execution_count": 3,
   "id": "5c08cb52",
   "metadata": {
    "execution": {
     "iopub.execute_input": "2022-10-30T15:01:12.239608Z",
     "iopub.status.busy": "2022-10-30T15:01:12.239184Z",
     "iopub.status.idle": "2022-10-30T15:01:12.269788Z",
     "shell.execute_reply": "2022-10-30T15:01:12.268493Z"
    },
    "papermill": {
     "duration": 0.044303,
     "end_time": "2022-10-30T15:01:12.272228",
     "exception": false,
     "start_time": "2022-10-30T15:01:12.227925",
     "status": "completed"
    },
    "tags": []
   },
   "outputs": [
    {
     "data": {
      "text/html": [
       "<div>\n",
       "<style scoped>\n",
       "    .dataframe tbody tr th:only-of-type {\n",
       "        vertical-align: middle;\n",
       "    }\n",
       "\n",
       "    .dataframe tbody tr th {\n",
       "        vertical-align: top;\n",
       "    }\n",
       "\n",
       "    .dataframe thead th {\n",
       "        text-align: right;\n",
       "    }\n",
       "</style>\n",
       "<table border=\"1\" class=\"dataframe\">\n",
       "  <thead>\n",
       "    <tr style=\"text-align: right;\">\n",
       "      <th></th>\n",
       "      <th>MSSubClass</th>\n",
       "      <th>LotFrontage</th>\n",
       "      <th>LotArea</th>\n",
       "      <th>OverallQual</th>\n",
       "      <th>OverallCond</th>\n",
       "      <th>YearBuilt</th>\n",
       "      <th>YearRemodAdd</th>\n",
       "      <th>MasVnrArea</th>\n",
       "      <th>BsmtFinSF1</th>\n",
       "      <th>BsmtFinSF2</th>\n",
       "      <th>...</th>\n",
       "      <th>GarageArea</th>\n",
       "      <th>WoodDeckSF</th>\n",
       "      <th>OpenPorchSF</th>\n",
       "      <th>EnclosedPorch</th>\n",
       "      <th>3SsnPorch</th>\n",
       "      <th>ScreenPorch</th>\n",
       "      <th>PoolArea</th>\n",
       "      <th>MiscVal</th>\n",
       "      <th>MoSold</th>\n",
       "      <th>YrSold</th>\n",
       "    </tr>\n",
       "    <tr>\n",
       "      <th>Id</th>\n",
       "      <th></th>\n",
       "      <th></th>\n",
       "      <th></th>\n",
       "      <th></th>\n",
       "      <th></th>\n",
       "      <th></th>\n",
       "      <th></th>\n",
       "      <th></th>\n",
       "      <th></th>\n",
       "      <th></th>\n",
       "      <th></th>\n",
       "      <th></th>\n",
       "      <th></th>\n",
       "      <th></th>\n",
       "      <th></th>\n",
       "      <th></th>\n",
       "      <th></th>\n",
       "      <th></th>\n",
       "      <th></th>\n",
       "      <th></th>\n",
       "      <th></th>\n",
       "    </tr>\n",
       "  </thead>\n",
       "  <tbody>\n",
       "    <tr>\n",
       "      <th>619</th>\n",
       "      <td>20</td>\n",
       "      <td>90.0</td>\n",
       "      <td>11694</td>\n",
       "      <td>9</td>\n",
       "      <td>5</td>\n",
       "      <td>2007</td>\n",
       "      <td>2007</td>\n",
       "      <td>452.0</td>\n",
       "      <td>48</td>\n",
       "      <td>0</td>\n",
       "      <td>...</td>\n",
       "      <td>774</td>\n",
       "      <td>0</td>\n",
       "      <td>108</td>\n",
       "      <td>0</td>\n",
       "      <td>0</td>\n",
       "      <td>260</td>\n",
       "      <td>0</td>\n",
       "      <td>0</td>\n",
       "      <td>7</td>\n",
       "      <td>2007</td>\n",
       "    </tr>\n",
       "    <tr>\n",
       "      <th>871</th>\n",
       "      <td>20</td>\n",
       "      <td>60.0</td>\n",
       "      <td>6600</td>\n",
       "      <td>5</td>\n",
       "      <td>5</td>\n",
       "      <td>1962</td>\n",
       "      <td>1962</td>\n",
       "      <td>0.0</td>\n",
       "      <td>0</td>\n",
       "      <td>0</td>\n",
       "      <td>...</td>\n",
       "      <td>308</td>\n",
       "      <td>0</td>\n",
       "      <td>0</td>\n",
       "      <td>0</td>\n",
       "      <td>0</td>\n",
       "      <td>0</td>\n",
       "      <td>0</td>\n",
       "      <td>0</td>\n",
       "      <td>8</td>\n",
       "      <td>2009</td>\n",
       "    </tr>\n",
       "    <tr>\n",
       "      <th>93</th>\n",
       "      <td>30</td>\n",
       "      <td>80.0</td>\n",
       "      <td>13360</td>\n",
       "      <td>5</td>\n",
       "      <td>7</td>\n",
       "      <td>1921</td>\n",
       "      <td>2006</td>\n",
       "      <td>0.0</td>\n",
       "      <td>713</td>\n",
       "      <td>0</td>\n",
       "      <td>...</td>\n",
       "      <td>432</td>\n",
       "      <td>0</td>\n",
       "      <td>0</td>\n",
       "      <td>44</td>\n",
       "      <td>0</td>\n",
       "      <td>0</td>\n",
       "      <td>0</td>\n",
       "      <td>0</td>\n",
       "      <td>8</td>\n",
       "      <td>2009</td>\n",
       "    </tr>\n",
       "    <tr>\n",
       "      <th>818</th>\n",
       "      <td>20</td>\n",
       "      <td>NaN</td>\n",
       "      <td>13265</td>\n",
       "      <td>8</td>\n",
       "      <td>5</td>\n",
       "      <td>2002</td>\n",
       "      <td>2002</td>\n",
       "      <td>148.0</td>\n",
       "      <td>1218</td>\n",
       "      <td>0</td>\n",
       "      <td>...</td>\n",
       "      <td>857</td>\n",
       "      <td>150</td>\n",
       "      <td>59</td>\n",
       "      <td>0</td>\n",
       "      <td>0</td>\n",
       "      <td>0</td>\n",
       "      <td>0</td>\n",
       "      <td>0</td>\n",
       "      <td>7</td>\n",
       "      <td>2008</td>\n",
       "    </tr>\n",
       "    <tr>\n",
       "      <th>303</th>\n",
       "      <td>20</td>\n",
       "      <td>118.0</td>\n",
       "      <td>13704</td>\n",
       "      <td>7</td>\n",
       "      <td>5</td>\n",
       "      <td>2001</td>\n",
       "      <td>2002</td>\n",
       "      <td>150.0</td>\n",
       "      <td>0</td>\n",
       "      <td>0</td>\n",
       "      <td>...</td>\n",
       "      <td>843</td>\n",
       "      <td>468</td>\n",
       "      <td>81</td>\n",
       "      <td>0</td>\n",
       "      <td>0</td>\n",
       "      <td>0</td>\n",
       "      <td>0</td>\n",
       "      <td>0</td>\n",
       "      <td>1</td>\n",
       "      <td>2006</td>\n",
       "    </tr>\n",
       "  </tbody>\n",
       "</table>\n",
       "<p>5 rows × 36 columns</p>\n",
       "</div>"
      ],
      "text/plain": [
       "     MSSubClass  LotFrontage  LotArea  OverallQual  OverallCond  YearBuilt  \\\n",
       "Id                                                                           \n",
       "619          20         90.0    11694            9            5       2007   \n",
       "871          20         60.0     6600            5            5       1962   \n",
       "93           30         80.0    13360            5            7       1921   \n",
       "818          20          NaN    13265            8            5       2002   \n",
       "303          20        118.0    13704            7            5       2001   \n",
       "\n",
       "     YearRemodAdd  MasVnrArea  BsmtFinSF1  BsmtFinSF2  ...  GarageArea  \\\n",
       "Id                                                     ...               \n",
       "619          2007       452.0          48           0  ...         774   \n",
       "871          1962         0.0           0           0  ...         308   \n",
       "93           2006         0.0         713           0  ...         432   \n",
       "818          2002       148.0        1218           0  ...         857   \n",
       "303          2002       150.0           0           0  ...         843   \n",
       "\n",
       "     WoodDeckSF  OpenPorchSF  EnclosedPorch  3SsnPorch  ScreenPorch  PoolArea  \\\n",
       "Id                                                                              \n",
       "619           0          108              0          0          260         0   \n",
       "871           0            0              0          0            0         0   \n",
       "93            0            0             44          0            0         0   \n",
       "818         150           59              0          0            0         0   \n",
       "303         468           81              0          0            0         0   \n",
       "\n",
       "     MiscVal  MoSold  YrSold  \n",
       "Id                            \n",
       "619        0       7    2007  \n",
       "871        0       8    2009  \n",
       "93         0       8    2009  \n",
       "818        0       7    2008  \n",
       "303        0       1    2006  \n",
       "\n",
       "[5 rows x 36 columns]"
      ]
     },
     "execution_count": 3,
     "metadata": {},
     "output_type": "execute_result"
    }
   ],
   "source": [
    "X_train.head()"
   ]
  },
  {
   "cell_type": "markdown",
   "id": "bf9a2741",
   "metadata": {
    "papermill": {
     "duration": 0.009836,
     "end_time": "2022-10-30T15:01:12.293031",
     "exception": false,
     "start_time": "2022-10-30T15:01:12.283195",
     "status": "completed"
    },
    "tags": []
   },
   "source": [
    "You can already see a few missing values in the first several rows.  In the next step, you'll obtain a more comprehensive understanding of the missing values in the dataset.\n",
    "\n",
    "# Step 1: Preliminary investigation\n",
    "\n",
    "Run the code cell below without changes."
   ]
  },
  {
   "cell_type": "code",
   "execution_count": 4,
   "id": "35f34d13",
   "metadata": {
    "execution": {
     "iopub.execute_input": "2022-10-30T15:01:12.316768Z",
     "iopub.status.busy": "2022-10-30T15:01:12.316323Z",
     "iopub.status.idle": "2022-10-30T15:01:12.328929Z",
     "shell.execute_reply": "2022-10-30T15:01:12.327038Z"
    },
    "papermill": {
     "duration": 0.026905,
     "end_time": "2022-10-30T15:01:12.331490",
     "exception": false,
     "start_time": "2022-10-30T15:01:12.304585",
     "status": "completed"
    },
    "tags": []
   },
   "outputs": [
    {
     "name": "stdout",
     "output_type": "stream",
     "text": [
      "(1168, 36)\n",
      "LotFrontage    212\n",
      "MasVnrArea       6\n",
      "GarageYrBlt     58\n",
      "dtype: int64\n"
     ]
    }
   ],
   "source": [
    "# Shape of training data (num_rows, num_columns)\n",
    "print(X_train.shape)\n",
    "\n",
    "# Number of missing values in each column of training data\n",
    "missing_val_count_by_column = (X_train.isnull().sum())\n",
    "print(missing_val_count_by_column[missing_val_count_by_column > 0])"
   ]
  },
  {
   "cell_type": "markdown",
   "id": "5e916fe8",
   "metadata": {
    "papermill": {
     "duration": 0.009016,
     "end_time": "2022-10-30T15:01:12.350178",
     "exception": false,
     "start_time": "2022-10-30T15:01:12.341162",
     "status": "completed"
    },
    "tags": []
   },
   "source": [
    "### Part A\n",
    "\n",
    "Use the above output to answer the questions below."
   ]
  },
  {
   "cell_type": "code",
   "execution_count": 5,
   "id": "41873e5c",
   "metadata": {
    "execution": {
     "iopub.execute_input": "2022-10-30T15:01:12.374408Z",
     "iopub.status.busy": "2022-10-30T15:01:12.373887Z",
     "iopub.status.idle": "2022-10-30T15:01:12.388235Z",
     "shell.execute_reply": "2022-10-30T15:01:12.386856Z"
    },
    "papermill": {
     "duration": 0.031102,
     "end_time": "2022-10-30T15:01:12.391043",
     "exception": false,
     "start_time": "2022-10-30T15:01:12.359941",
     "status": "completed"
    },
    "tags": []
   },
   "outputs": [
    {
     "data": {
      "application/javascript": [
       "parent.postMessage({\"jupyterEvent\": \"custom.exercise_interaction\", \"data\": {\"outcomeType\": 1, \"valueTowardsCompletion\": 1.0, \"interactionType\": 1, \"questionType\": 1, \"questionId\": \"1.1_InvestigateEquality\", \"learnToolsVersion\": \"0.3.4\", \"failureMessage\": \"\", \"exceptionClass\": \"\", \"trace\": \"\"}}, \"*\")"
      ],
      "text/plain": [
       "<IPython.core.display.Javascript object>"
      ]
     },
     "metadata": {},
     "output_type": "display_data"
    },
    {
     "data": {
      "text/markdown": [
       "<span style=\"color:#33cc33\">Correct</span>"
      ],
      "text/plain": [
       "Correct"
      ]
     },
     "metadata": {},
     "output_type": "display_data"
    }
   ],
   "source": [
    "# Fill in the line below: How many rows are in the training data?\n",
    "\n",
    "num_rows = 1168\n",
    "# Fill in the line below: How many columns in the training data\n",
    "# have missing values?\n",
    "\n",
    "num_cols_with_missing = 3\n",
    "# Fill in the line below: How many missing entries are contained in \n",
    "# all of the training data?\n",
    "tot_missing = 212 + 6 + 58\n",
    "\n",
    "# Check your answers\n",
    "step_1.a.check()"
   ]
  },
  {
   "cell_type": "code",
   "execution_count": 6,
   "id": "c71900fa",
   "metadata": {
    "execution": {
     "iopub.execute_input": "2022-10-30T15:01:12.416013Z",
     "iopub.status.busy": "2022-10-30T15:01:12.415526Z",
     "iopub.status.idle": "2022-10-30T15:01:12.420143Z",
     "shell.execute_reply": "2022-10-30T15:01:12.419192Z"
    },
    "papermill": {
     "duration": 0.021034,
     "end_time": "2022-10-30T15:01:12.422953",
     "exception": false,
     "start_time": "2022-10-30T15:01:12.401919",
     "status": "completed"
    },
    "tags": []
   },
   "outputs": [],
   "source": [
    "# Lines below will give you a hint or solution code\n",
    "#step_1.a.hint()\n",
    "#step_1.a.solution()"
   ]
  },
  {
   "cell_type": "markdown",
   "id": "756118e3",
   "metadata": {
    "papermill": {
     "duration": 0.009724,
     "end_time": "2022-10-30T15:01:12.442561",
     "exception": false,
     "start_time": "2022-10-30T15:01:12.432837",
     "status": "completed"
    },
    "tags": []
   },
   "source": [
    "### Part B\n",
    "Considering your answers above, what do you think is likely the best approach to dealing with the missing values?"
   ]
  },
  {
   "cell_type": "code",
   "execution_count": 7,
   "id": "4a6fa529",
   "metadata": {
    "execution": {
     "iopub.execute_input": "2022-10-30T15:01:12.468524Z",
     "iopub.status.busy": "2022-10-30T15:01:12.467962Z",
     "iopub.status.idle": "2022-10-30T15:01:12.481167Z",
     "shell.execute_reply": "2022-10-30T15:01:12.479691Z"
    },
    "papermill": {
     "duration": 0.030707,
     "end_time": "2022-10-30T15:01:12.484698",
     "exception": false,
     "start_time": "2022-10-30T15:01:12.453991",
     "status": "completed"
    },
    "tags": []
   },
   "outputs": [
    {
     "data": {
      "application/javascript": [
       "parent.postMessage({\"jupyterEvent\": \"custom.exercise_interaction\", \"data\": {\"outcomeType\": 1, \"valueTowardsCompletion\": 1.0, \"interactionType\": 1, \"questionType\": 4, \"questionId\": \"1.2_InvestigateThought\", \"learnToolsVersion\": \"0.3.4\", \"failureMessage\": \"\", \"exceptionClass\": \"\", \"trace\": \"\"}}, \"*\")"
      ],
      "text/plain": [
       "<IPython.core.display.Javascript object>"
      ]
     },
     "metadata": {},
     "output_type": "display_data"
    },
    {
     "data": {
      "text/markdown": [
       "<span style=\"color:#33cc33\">Correct:</span> \n",
       "\n",
       "Since there are relatively few missing entries in the data (the column with the greatest percentage of missing values is missing less than 20% of its entries), we can expect that dropping columns is unlikely to yield good results.  This is because we'd be throwing away a lot of valuable data, and so imputation will likely perform better."
      ],
      "text/plain": [
       "Correct: \n",
       "\n",
       "Since there are relatively few missing entries in the data (the column with the greatest percentage of missing values is missing less than 20% of its entries), we can expect that dropping columns is unlikely to yield good results.  This is because we'd be throwing away a lot of valuable data, and so imputation will likely perform better."
      ]
     },
     "metadata": {},
     "output_type": "display_data"
    }
   ],
   "source": [
    "# Check your answer (Run this code cell to receive credit!)\n",
    "step_1.b.check()"
   ]
  },
  {
   "cell_type": "code",
   "execution_count": 8,
   "id": "6e6fbda0",
   "metadata": {
    "execution": {
     "iopub.execute_input": "2022-10-30T15:01:12.510804Z",
     "iopub.status.busy": "2022-10-30T15:01:12.510309Z",
     "iopub.status.idle": "2022-10-30T15:01:12.516707Z",
     "shell.execute_reply": "2022-10-30T15:01:12.514831Z"
    },
    "papermill": {
     "duration": 0.023015,
     "end_time": "2022-10-30T15:01:12.519722",
     "exception": false,
     "start_time": "2022-10-30T15:01:12.496707",
     "status": "completed"
    },
    "tags": []
   },
   "outputs": [],
   "source": [
    "#step_1.b.hint()"
   ]
  },
  {
   "cell_type": "markdown",
   "id": "e36c9f95",
   "metadata": {
    "papermill": {
     "duration": 0.01019,
     "end_time": "2022-10-30T15:01:12.541596",
     "exception": false,
     "start_time": "2022-10-30T15:01:12.531406",
     "status": "completed"
    },
    "tags": []
   },
   "source": [
    "To compare different approaches to dealing with missing values, you'll use the same `score_dataset()` function from the tutorial.  This function reports the [mean absolute error](https://en.wikipedia.org/wiki/Mean_absolute_error) (MAE) from a random forest model."
   ]
  },
  {
   "cell_type": "code",
   "execution_count": 9,
   "id": "94026918",
   "metadata": {
    "execution": {
     "iopub.execute_input": "2022-10-30T15:01:12.566702Z",
     "iopub.status.busy": "2022-10-30T15:01:12.566038Z",
     "iopub.status.idle": "2022-10-30T15:01:12.870386Z",
     "shell.execute_reply": "2022-10-30T15:01:12.869119Z"
    },
    "papermill": {
     "duration": 0.321396,
     "end_time": "2022-10-30T15:01:12.873768",
     "exception": false,
     "start_time": "2022-10-30T15:01:12.552372",
     "status": "completed"
    },
    "tags": []
   },
   "outputs": [],
   "source": [
    "from sklearn.ensemble import RandomForestRegressor\n",
    "from sklearn.metrics import mean_absolute_error\n",
    "\n",
    "# Function for comparing different approaches\n",
    "def score_dataset(X_train, X_valid, y_train, y_valid):\n",
    "    model = RandomForestRegressor(n_estimators=100, random_state=0)\n",
    "    model.fit(X_train, y_train)\n",
    "    preds = model.predict(X_valid)\n",
    "    return mean_absolute_error(y_valid, preds)"
   ]
  },
  {
   "cell_type": "markdown",
   "id": "d1f3542d",
   "metadata": {
    "papermill": {
     "duration": 0.00975,
     "end_time": "2022-10-30T15:01:12.894719",
     "exception": false,
     "start_time": "2022-10-30T15:01:12.884969",
     "status": "completed"
    },
    "tags": []
   },
   "source": [
    "# Step 2: Drop columns with missing values\n",
    "\n",
    "In this step, you'll preprocess the data in `X_train` and `X_valid` to remove columns with missing values.  Set the preprocessed DataFrames to `reduced_X_train` and `reduced_X_valid`, respectively.  "
   ]
  },
  {
   "cell_type": "code",
   "execution_count": 10,
   "id": "d4221b32",
   "metadata": {
    "execution": {
     "iopub.execute_input": "2022-10-30T15:01:12.917545Z",
     "iopub.status.busy": "2022-10-30T15:01:12.916746Z",
     "iopub.status.idle": "2022-10-30T15:01:12.948773Z",
     "shell.execute_reply": "2022-10-30T15:01:12.947514Z"
    },
    "papermill": {
     "duration": 0.046516,
     "end_time": "2022-10-30T15:01:12.951203",
     "exception": false,
     "start_time": "2022-10-30T15:01:12.904687",
     "status": "completed"
    },
    "tags": []
   },
   "outputs": [
    {
     "data": {
      "application/javascript": [
       "parent.postMessage({\"jupyterEvent\": \"custom.exercise_interaction\", \"data\": {\"outcomeType\": 1, \"valueTowardsCompletion\": 1.0, \"interactionType\": 1, \"questionType\": 2, \"questionId\": \"2_DropMissing\", \"learnToolsVersion\": \"0.3.4\", \"failureMessage\": \"\", \"exceptionClass\": \"\", \"trace\": \"\"}}, \"*\")"
      ],
      "text/plain": [
       "<IPython.core.display.Javascript object>"
      ]
     },
     "metadata": {},
     "output_type": "display_data"
    },
    {
     "data": {
      "text/markdown": [
       "<span style=\"color:#33cc33\">Correct</span>"
      ],
      "text/plain": [
       "Correct"
      ]
     },
     "metadata": {},
     "output_type": "display_data"
    }
   ],
   "source": [
    "# Fill in the line below: get names of columns with missing values\n",
    "cols_with_missing = [col for col in X_train.columns\n",
    "                     if X_train[col].isnull().any()]\n",
    "\n",
    "# Drop columns in training and validation data\n",
    "reduced_X_train = X_train.drop(cols_with_missing, axis=1)\n",
    "reduced_X_valid = X_valid.drop(cols_with_missing, axis=1)\n",
    "\n",
    "# Check your answers\n",
    "step_2.check()"
   ]
  },
  {
   "cell_type": "code",
   "execution_count": 11,
   "id": "09acbf60",
   "metadata": {
    "execution": {
     "iopub.execute_input": "2022-10-30T15:01:12.975421Z",
     "iopub.status.busy": "2022-10-30T15:01:12.974448Z",
     "iopub.status.idle": "2022-10-30T15:01:12.980294Z",
     "shell.execute_reply": "2022-10-30T15:01:12.978648Z"
    },
    "papermill": {
     "duration": 0.020903,
     "end_time": "2022-10-30T15:01:12.982747",
     "exception": false,
     "start_time": "2022-10-30T15:01:12.961844",
     "status": "completed"
    },
    "tags": []
   },
   "outputs": [],
   "source": [
    "# Lines below will give you a hint or solution code\n",
    "#step_2.hint()\n",
    "#step_2.solution()"
   ]
  },
  {
   "cell_type": "markdown",
   "id": "4ef6ce8b",
   "metadata": {
    "papermill": {
     "duration": 0.012808,
     "end_time": "2022-10-30T15:01:13.006641",
     "exception": false,
     "start_time": "2022-10-30T15:01:12.993833",
     "status": "completed"
    },
    "tags": []
   },
   "source": [
    "Run the next code cell without changes to obtain the MAE for this approach."
   ]
  },
  {
   "cell_type": "code",
   "execution_count": 12,
   "id": "c0e6b5d5",
   "metadata": {
    "execution": {
     "iopub.execute_input": "2022-10-30T15:01:13.032463Z",
     "iopub.status.busy": "2022-10-30T15:01:13.030730Z",
     "iopub.status.idle": "2022-10-30T15:01:14.193918Z",
     "shell.execute_reply": "2022-10-30T15:01:14.192125Z"
    },
    "papermill": {
     "duration": 1.179017,
     "end_time": "2022-10-30T15:01:14.196938",
     "exception": false,
     "start_time": "2022-10-30T15:01:13.017921",
     "status": "completed"
    },
    "tags": []
   },
   "outputs": [
    {
     "name": "stdout",
     "output_type": "stream",
     "text": [
      "MAE (Drop columns with missing values):\n",
      "17837.82570776256\n"
     ]
    }
   ],
   "source": [
    "print(\"MAE (Drop columns with missing values):\")\n",
    "print(score_dataset(reduced_X_train, reduced_X_valid, y_train, y_valid))"
   ]
  },
  {
   "cell_type": "markdown",
   "id": "7f3e1e22",
   "metadata": {
    "papermill": {
     "duration": 0.011267,
     "end_time": "2022-10-30T15:01:14.219376",
     "exception": false,
     "start_time": "2022-10-30T15:01:14.208109",
     "status": "completed"
    },
    "tags": []
   },
   "source": [
    "# Step 3: Imputation\n",
    "\n",
    "### Part A\n",
    "\n",
    "Use the next code cell to impute missing values with the mean value along each column.  Set the preprocessed DataFrames to `imputed_X_train` and `imputed_X_valid`.  Make sure that the column names match those in `X_train` and `X_valid`."
   ]
  },
  {
   "cell_type": "code",
   "execution_count": 13,
   "id": "976bc73c",
   "metadata": {
    "execution": {
     "iopub.execute_input": "2022-10-30T15:01:14.242358Z",
     "iopub.status.busy": "2022-10-30T15:01:14.241939Z",
     "iopub.status.idle": "2022-10-30T15:01:14.280538Z",
     "shell.execute_reply": "2022-10-30T15:01:14.279219Z"
    },
    "papermill": {
     "duration": 0.053398,
     "end_time": "2022-10-30T15:01:14.283071",
     "exception": false,
     "start_time": "2022-10-30T15:01:14.229673",
     "status": "completed"
    },
    "tags": []
   },
   "outputs": [
    {
     "data": {
      "application/javascript": [
       "parent.postMessage({\"jupyterEvent\": \"custom.exercise_interaction\", \"data\": {\"outcomeType\": 1, \"valueTowardsCompletion\": 1.0, \"interactionType\": 1, \"questionType\": 2, \"questionId\": \"3.1_ImputeCode\", \"learnToolsVersion\": \"0.3.4\", \"failureMessage\": \"\", \"exceptionClass\": \"\", \"trace\": \"\"}}, \"*\")"
      ],
      "text/plain": [
       "<IPython.core.display.Javascript object>"
      ]
     },
     "metadata": {},
     "output_type": "display_data"
    },
    {
     "data": {
      "text/markdown": [
       "<span style=\"color:#33cc33\">Correct</span>"
      ],
      "text/plain": [
       "Correct"
      ]
     },
     "metadata": {},
     "output_type": "display_data"
    }
   ],
   "source": [
    "from sklearn.impute import SimpleImputer\n",
    "\n",
    "# Fill in the lines below: imputation\n",
    "# Imputation\n",
    "my_imputer = SimpleImputer()\n",
    "imputed_X_train = pd.DataFrame(my_imputer.fit_transform(X_train))\n",
    "imputed_X_valid = pd.DataFrame(my_imputer.transform(X_valid))\n",
    "\n",
    "# Imputation removed column names; put them back\n",
    "imputed_X_train.columns = X_train.columns\n",
    "imputed_X_valid.columns = X_valid.columns\n",
    "\n",
    "\n",
    "# Check your answers\n",
    "step_3.a.check()"
   ]
  },
  {
   "cell_type": "code",
   "execution_count": 14,
   "id": "bc398cf5",
   "metadata": {
    "execution": {
     "iopub.execute_input": "2022-10-30T15:01:14.306314Z",
     "iopub.status.busy": "2022-10-30T15:01:14.305443Z",
     "iopub.status.idle": "2022-10-30T15:01:14.310525Z",
     "shell.execute_reply": "2022-10-30T15:01:14.309263Z"
    },
    "papermill": {
     "duration": 0.019651,
     "end_time": "2022-10-30T15:01:14.313244",
     "exception": false,
     "start_time": "2022-10-30T15:01:14.293593",
     "status": "completed"
    },
    "tags": []
   },
   "outputs": [],
   "source": [
    "# Lines below will give you a hint or solution code\n",
    "#step_3.a.hint()\n",
    "#step_3.a.solution()"
   ]
  },
  {
   "cell_type": "markdown",
   "id": "e9d25b69",
   "metadata": {
    "papermill": {
     "duration": 0.01044,
     "end_time": "2022-10-30T15:01:14.334891",
     "exception": false,
     "start_time": "2022-10-30T15:01:14.324451",
     "status": "completed"
    },
    "tags": []
   },
   "source": [
    "Run the next code cell without changes to obtain the MAE for this approach."
   ]
  },
  {
   "cell_type": "code",
   "execution_count": 15,
   "id": "79d5edcf",
   "metadata": {
    "execution": {
     "iopub.execute_input": "2022-10-30T15:01:14.357687Z",
     "iopub.status.busy": "2022-10-30T15:01:14.357203Z",
     "iopub.status.idle": "2022-10-30T15:01:15.637380Z",
     "shell.execute_reply": "2022-10-30T15:01:15.635901Z"
    },
    "papermill": {
     "duration": 1.295047,
     "end_time": "2022-10-30T15:01:15.640424",
     "exception": false,
     "start_time": "2022-10-30T15:01:14.345377",
     "status": "completed"
    },
    "tags": []
   },
   "outputs": [
    {
     "name": "stdout",
     "output_type": "stream",
     "text": [
      "MAE (Imputation):\n",
      "18062.894611872147\n"
     ]
    }
   ],
   "source": [
    "print(\"MAE (Imputation):\")\n",
    "print(score_dataset(imputed_X_train, imputed_X_valid, y_train, y_valid))"
   ]
  },
  {
   "cell_type": "markdown",
   "id": "d27e0f19",
   "metadata": {
    "papermill": {
     "duration": 0.010787,
     "end_time": "2022-10-30T15:01:15.662286",
     "exception": false,
     "start_time": "2022-10-30T15:01:15.651499",
     "status": "completed"
    },
    "tags": []
   },
   "source": [
    "### Part B\n",
    "\n",
    "Compare the MAE from each approach.  Does anything surprise you about the results?  Why do you think one approach performed better than the other?"
   ]
  },
  {
   "cell_type": "code",
   "execution_count": 16,
   "id": "d871fee8",
   "metadata": {
    "execution": {
     "iopub.execute_input": "2022-10-30T15:01:15.687469Z",
     "iopub.status.busy": "2022-10-30T15:01:15.687040Z",
     "iopub.status.idle": "2022-10-30T15:01:15.698248Z",
     "shell.execute_reply": "2022-10-30T15:01:15.696636Z"
    },
    "papermill": {
     "duration": 0.027822,
     "end_time": "2022-10-30T15:01:15.701508",
     "exception": false,
     "start_time": "2022-10-30T15:01:15.673686",
     "status": "completed"
    },
    "tags": []
   },
   "outputs": [
    {
     "data": {
      "application/javascript": [
       "parent.postMessage({\"jupyterEvent\": \"custom.exercise_interaction\", \"data\": {\"outcomeType\": 1, \"valueTowardsCompletion\": 1.0, \"interactionType\": 1, \"questionType\": 4, \"questionId\": \"3.2_ImputeThought\", \"learnToolsVersion\": \"0.3.4\", \"failureMessage\": \"\", \"exceptionClass\": \"\", \"trace\": \"\"}}, \"*\")"
      ],
      "text/plain": [
       "<IPython.core.display.Javascript object>"
      ]
     },
     "metadata": {},
     "output_type": "display_data"
    },
    {
     "data": {
      "text/markdown": [
       "<span style=\"color:#33cc33\">Correct:</span> \n",
       "\n",
       "Given that thre are so few missing values in the dataset, we'd expect imputation to perform better than dropping columns entirely.  However, we see that dropping columns performs slightly better!  While this can probably partially be attributed to noise in the dataset, another potential explanation is that the imputation method is not a great match to this dataset.  That is, maybe instead of filling in the mean value, it makes more sense to set every missing value to a value of 0, to fill in the most frequently encountered value, or to use some other method.  For instance, consider the `GarageYrBlt` column (which indicates the year that the garage was built).  It's likely that in some cases, a missing value could indicate a house that does not have a garage.  Does it make more sense to fill in the median value along each column in this case?  Or could we get better results by filling in the minimum value along each column?  It's not quite clear what's best in this case, but perhaps we can rule out some options immediately - for instance, setting missing values in this column to 0 is likely to yield horrible results!"
      ],
      "text/plain": [
       "Correct: \n",
       "\n",
       "Given that thre are so few missing values in the dataset, we'd expect imputation to perform better than dropping columns entirely.  However, we see that dropping columns performs slightly better!  While this can probably partially be attributed to noise in the dataset, another potential explanation is that the imputation method is not a great match to this dataset.  That is, maybe instead of filling in the mean value, it makes more sense to set every missing value to a value of 0, to fill in the most frequently encountered value, or to use some other method.  For instance, consider the `GarageYrBlt` column (which indicates the year that the garage was built).  It's likely that in some cases, a missing value could indicate a house that does not have a garage.  Does it make more sense to fill in the median value along each column in this case?  Or could we get better results by filling in the minimum value along each column?  It's not quite clear what's best in this case, but perhaps we can rule out some options immediately - for instance, setting missing values in this column to 0 is likely to yield horrible results!"
      ]
     },
     "metadata": {},
     "output_type": "display_data"
    }
   ],
   "source": [
    "# Check your answer (Run this code cell to receive credit!)\n",
    "step_3.b.check()"
   ]
  },
  {
   "cell_type": "code",
   "execution_count": 17,
   "id": "dafdf7d5",
   "metadata": {
    "execution": {
     "iopub.execute_input": "2022-10-30T15:01:15.726642Z",
     "iopub.status.busy": "2022-10-30T15:01:15.726176Z",
     "iopub.status.idle": "2022-10-30T15:01:15.732007Z",
     "shell.execute_reply": "2022-10-30T15:01:15.730421Z"
    },
    "papermill": {
     "duration": 0.022451,
     "end_time": "2022-10-30T15:01:15.735885",
     "exception": false,
     "start_time": "2022-10-30T15:01:15.713434",
     "status": "completed"
    },
    "tags": []
   },
   "outputs": [],
   "source": [
    "#step_3.b.hint()"
   ]
  },
  {
   "cell_type": "markdown",
   "id": "55b9ed7e",
   "metadata": {
    "papermill": {
     "duration": 0.010706,
     "end_time": "2022-10-30T15:01:15.758460",
     "exception": false,
     "start_time": "2022-10-30T15:01:15.747754",
     "status": "completed"
    },
    "tags": []
   },
   "source": [
    "# Step 4: Generate test predictions\n",
    "\n",
    "In this final step, you'll use any approach of your choosing to deal with missing values.  Once you've preprocessed the training and validation features, you'll train and evaluate a random forest model.  Then, you'll preprocess the test data before generating predictions that can be submitted to the competition!\n",
    "\n",
    "### Part A\n",
    "\n",
    "Use the next code cell to preprocess the training and validation data.  Set the preprocessed DataFrames to `final_X_train` and `final_X_valid`.  **You can use any approach of your choosing here!**  in order for this step to be marked as correct, you need only ensure:\n",
    "- the preprocessed DataFrames have the same number of columns,\n",
    "- the preprocessed DataFrames have no missing values, \n",
    "- `final_X_train` and `y_train` have the same number of rows, and\n",
    "- `final_X_valid` and `y_valid` have the same number of rows."
   ]
  },
  {
   "cell_type": "code",
   "execution_count": 18,
   "id": "4e6f9afa",
   "metadata": {
    "execution": {
     "iopub.execute_input": "2022-10-30T15:01:15.782563Z",
     "iopub.status.busy": "2022-10-30T15:01:15.782152Z",
     "iopub.status.idle": "2022-10-30T15:01:15.820748Z",
     "shell.execute_reply": "2022-10-30T15:01:15.819013Z"
    },
    "papermill": {
     "duration": 0.053545,
     "end_time": "2022-10-30T15:01:15.823495",
     "exception": false,
     "start_time": "2022-10-30T15:01:15.769950",
     "status": "completed"
    },
    "tags": []
   },
   "outputs": [
    {
     "data": {
      "application/javascript": [
       "parent.postMessage({\"jupyterEvent\": \"custom.exercise_interaction\", \"data\": {\"outcomeType\": 1, \"valueTowardsCompletion\": 1.0, \"interactionType\": 1, \"questionType\": 2, \"questionId\": \"4.1_PredsCodeA\", \"learnToolsVersion\": \"0.3.4\", \"failureMessage\": \"\", \"exceptionClass\": \"\", \"trace\": \"\"}}, \"*\")"
      ],
      "text/plain": [
       "<IPython.core.display.Javascript object>"
      ]
     },
     "metadata": {},
     "output_type": "display_data"
    },
    {
     "data": {
      "text/markdown": [
       "<span style=\"color:#33cc33\">Correct</span>"
      ],
      "text/plain": [
       "Correct"
      ]
     },
     "metadata": {},
     "output_type": "display_data"
    }
   ],
   "source": [
    "# Preprocessed training and validation features\n",
    "# Imputation\n",
    "final_imputer = SimpleImputer(strategy='median')\n",
    "final_X_train = pd.DataFrame(final_imputer.fit_transform(X_train))\n",
    "final_X_valid = pd.DataFrame(final_imputer.transform(X_valid))\n",
    "\n",
    "# Imputation removed column names; put them back\n",
    "final_X_train.columns = X_train.columns\n",
    "final_X_valid.columns = X_valid.columns\n",
    "\n",
    "\n",
    "# Check your answers\n",
    "step_4.a.check()"
   ]
  },
  {
   "cell_type": "code",
   "execution_count": 19,
   "id": "609ccf46",
   "metadata": {
    "execution": {
     "iopub.execute_input": "2022-10-30T15:01:15.847880Z",
     "iopub.status.busy": "2022-10-30T15:01:15.847458Z",
     "iopub.status.idle": "2022-10-30T15:01:15.852262Z",
     "shell.execute_reply": "2022-10-30T15:01:15.851124Z"
    },
    "papermill": {
     "duration": 0.0199,
     "end_time": "2022-10-30T15:01:15.854576",
     "exception": false,
     "start_time": "2022-10-30T15:01:15.834676",
     "status": "completed"
    },
    "tags": []
   },
   "outputs": [],
   "source": [
    "# Lines below will give you a hint or solution code\n",
    "#step_4.a.hint()\n",
    "#step_4.a.solution()"
   ]
  },
  {
   "cell_type": "markdown",
   "id": "4e8a952d",
   "metadata": {
    "papermill": {
     "duration": 0.012087,
     "end_time": "2022-10-30T15:01:15.877682",
     "exception": false,
     "start_time": "2022-10-30T15:01:15.865595",
     "status": "completed"
    },
    "tags": []
   },
   "source": [
    "Run the next code cell to train and evaluate a random forest model.  (*Note that we don't use the `score_dataset()` function above, because we will soon use the trained model to generate test predictions!*)"
   ]
  },
  {
   "cell_type": "code",
   "execution_count": 20,
   "id": "b0aaeea5",
   "metadata": {
    "execution": {
     "iopub.execute_input": "2022-10-30T15:01:15.906430Z",
     "iopub.status.busy": "2022-10-30T15:01:15.905971Z",
     "iopub.status.idle": "2022-10-30T15:01:17.167260Z",
     "shell.execute_reply": "2022-10-30T15:01:17.164246Z"
    },
    "papermill": {
     "duration": 1.279268,
     "end_time": "2022-10-30T15:01:17.171023",
     "exception": false,
     "start_time": "2022-10-30T15:01:15.891755",
     "status": "completed"
    },
    "tags": []
   },
   "outputs": [
    {
     "name": "stdout",
     "output_type": "stream",
     "text": [
      "MAE (Your approach):\n",
      "17791.59899543379\n"
     ]
    }
   ],
   "source": [
    "# Define and fit model\n",
    "model = RandomForestRegressor(n_estimators=100, random_state=0)\n",
    "model.fit(final_X_train, y_train)\n",
    "\n",
    "# Get validation predictions and MAE\n",
    "preds_valid = model.predict(final_X_valid)\n",
    "print(\"MAE (Your approach):\")\n",
    "print(mean_absolute_error(y_valid, preds_valid))"
   ]
  },
  {
   "cell_type": "markdown",
   "id": "93b0f095",
   "metadata": {
    "papermill": {
     "duration": 0.012613,
     "end_time": "2022-10-30T15:01:17.195129",
     "exception": false,
     "start_time": "2022-10-30T15:01:17.182516",
     "status": "completed"
    },
    "tags": []
   },
   "source": [
    "### Part B\n",
    "\n",
    "Use the next code cell to preprocess your test data.  Make sure that you use a method that agrees with how you preprocessed the training and validation data, and set the preprocessed test features to `final_X_test`.\n",
    "\n",
    "Then, use the preprocessed test features and the trained model to generate test predictions in `preds_test`.\n",
    "\n",
    "In order for this step to be marked correct, you need only ensure:\n",
    "- the preprocessed test DataFrame has no missing values, and\n",
    "- `final_X_test` has the same number of rows as `X_test`."
   ]
  },
  {
   "cell_type": "code",
   "execution_count": 21,
   "id": "a1d7a0de",
   "metadata": {
    "execution": {
     "iopub.execute_input": "2022-10-30T15:01:17.221850Z",
     "iopub.status.busy": "2022-10-30T15:01:17.221455Z",
     "iopub.status.idle": "2022-10-30T15:01:17.285069Z",
     "shell.execute_reply": "2022-10-30T15:01:17.283121Z"
    },
    "papermill": {
     "duration": 0.081602,
     "end_time": "2022-10-30T15:01:17.288570",
     "exception": false,
     "start_time": "2022-10-30T15:01:17.206968",
     "status": "completed"
    },
    "tags": []
   },
   "outputs": [
    {
     "name": "stderr",
     "output_type": "stream",
     "text": [
      "/opt/conda/lib/python3.7/site-packages/sklearn/base.py:451: UserWarning: X does not have valid feature names, but RandomForestRegressor was fitted with feature names\n",
      "  \"X does not have valid feature names, but\"\n"
     ]
    },
    {
     "data": {
      "application/javascript": [
       "parent.postMessage({\"jupyterEvent\": \"custom.exercise_interaction\", \"data\": {\"outcomeType\": 1, \"valueTowardsCompletion\": 1.0, \"interactionType\": 1, \"questionType\": 2, \"questionId\": \"4.2_PredsCodeB\", \"learnToolsVersion\": \"0.3.4\", \"failureMessage\": \"\", \"exceptionClass\": \"\", \"trace\": \"\"}}, \"*\")"
      ],
      "text/plain": [
       "<IPython.core.display.Javascript object>"
      ]
     },
     "metadata": {},
     "output_type": "display_data"
    },
    {
     "data": {
      "text/markdown": [
       "<span style=\"color:#33cc33\">Correct</span>"
      ],
      "text/plain": [
       "Correct"
      ]
     },
     "metadata": {},
     "output_type": "display_data"
    }
   ],
   "source": [
    "# Fill in the line below: preprocess test data\n",
    "# Preprocess test data\n",
    "final_X_test = pd.DataFrame(final_imputer.transform(X_test))\n",
    "\n",
    "# Get test predictions\n",
    "preds_test = model.predict(final_X_test)\n",
    "# Check your answers\n",
    "step_4.b.check()"
   ]
  },
  {
   "cell_type": "code",
   "execution_count": 22,
   "id": "24974a5b",
   "metadata": {
    "execution": {
     "iopub.execute_input": "2022-10-30T15:01:17.314777Z",
     "iopub.status.busy": "2022-10-30T15:01:17.314295Z",
     "iopub.status.idle": "2022-10-30T15:01:17.320639Z",
     "shell.execute_reply": "2022-10-30T15:01:17.319358Z"
    },
    "papermill": {
     "duration": 0.022794,
     "end_time": "2022-10-30T15:01:17.323802",
     "exception": false,
     "start_time": "2022-10-30T15:01:17.301008",
     "status": "completed"
    },
    "tags": []
   },
   "outputs": [],
   "source": [
    "# Lines below will give you a hint or solution code\n",
    "#step_4.b.hint()\n",
    "#step_4.b.solution()"
   ]
  },
  {
   "cell_type": "markdown",
   "id": "f8dd973b",
   "metadata": {
    "papermill": {
     "duration": 0.010908,
     "end_time": "2022-10-30T15:01:17.346224",
     "exception": false,
     "start_time": "2022-10-30T15:01:17.335316",
     "status": "completed"
    },
    "tags": []
   },
   "source": [
    "Run the next code cell without changes to save your results to a CSV file that can be submitted directly to the competition."
   ]
  },
  {
   "cell_type": "code",
   "execution_count": 23,
   "id": "699ba792",
   "metadata": {
    "execution": {
     "iopub.execute_input": "2022-10-30T15:01:17.371473Z",
     "iopub.status.busy": "2022-10-30T15:01:17.371068Z",
     "iopub.status.idle": "2022-10-30T15:01:17.384503Z",
     "shell.execute_reply": "2022-10-30T15:01:17.383078Z"
    },
    "papermill": {
     "duration": 0.030134,
     "end_time": "2022-10-30T15:01:17.387668",
     "exception": false,
     "start_time": "2022-10-30T15:01:17.357534",
     "status": "completed"
    },
    "tags": []
   },
   "outputs": [],
   "source": [
    "# Save test predictions to file\n",
    "output = pd.DataFrame({'Id': X_test.index,\n",
    "                       'SalePrice': preds_test})\n",
    "output.to_csv('submission.csv', index=False)"
   ]
  },
  {
   "cell_type": "markdown",
   "id": "fc7c0e07",
   "metadata": {
    "papermill": {
     "duration": 0.011966,
     "end_time": "2022-10-30T15:01:17.412220",
     "exception": false,
     "start_time": "2022-10-30T15:01:17.400254",
     "status": "completed"
    },
    "tags": []
   },
   "source": [
    "# Submit your results\n",
    "\n",
    "Once you have successfully completed Step 4, you're ready to submit your results to the leaderboard!  (_You also learned how to do this in the previous exercise.  If you need a reminder of how to do this, please use the instructions below._)  \n",
    "\n",
    "First, you'll need to join the competition if you haven't already.  So open a new window by clicking on [this link](https://www.kaggle.com/c/home-data-for-ml-course).  Then click on the **Join Competition** button.\n",
    "\n",
    "![join competition image](https://i.imgur.com/wLmFtH3.png)\n",
    "\n",
    "Next, follow the instructions below:\n",
    "1. Begin by clicking on the **Save Version** button in the top right corner of the window.  This will generate a pop-up window.  \n",
    "2. Ensure that the **Save and Run All** option is selected, and then click on the **Save** button.\n",
    "3. This generates a window in the bottom left corner of the notebook.  After it has finished running, click on the number to the right of the **Save Version** button.  This pulls up a list of versions on the right of the screen.  Click on the ellipsis **(...)** to the right of the most recent version, and select **Open in Viewer**.  This brings you into view mode of the same page. You will need to scroll down to get back to these instructions.\n",
    "4. Click on the **Output** tab on the right of the screen.  Then, click on the file you would like to submit, and click on the **Submit** button to submit your results to the leaderboard.\n",
    "\n",
    "You have now successfully submitted to the competition!\n",
    "\n",
    "If you want to keep working to improve your performance, select the **Edit** button in the top right of the screen. Then you can change your code and repeat the process. There's a lot of room to improve, and you will climb up the leaderboard as you work.\n",
    "\n",
    "\n",
    "# Keep going\n",
    "\n",
    "Move on to learn what **[categorical variables](https://www.kaggle.com/alexisbcook/categorical-variables)** are, along with how to incorporate them into your machine learning models.  Categorical variables are very common in real-world data, but you'll get an error if you try to plug them into your models without processing them first!"
   ]
  },
  {
   "cell_type": "markdown",
   "id": "045a75a8",
   "metadata": {
    "papermill": {
     "duration": 0.011239,
     "end_time": "2022-10-30T15:01:17.436139",
     "exception": false,
     "start_time": "2022-10-30T15:01:17.424900",
     "status": "completed"
    },
    "tags": []
   },
   "source": [
    "---\n",
    "\n",
    "\n",
    "\n",
    "\n",
    "*Have questions or comments? Visit the [course discussion forum](https://www.kaggle.com/learn/intermediate-machine-learning/discussion) to chat with other learners.*"
   ]
  }
 ],
 "metadata": {
  "kernelspec": {
   "display_name": "Python 3",
   "language": "python",
   "name": "python3"
  },
  "language_info": {
   "codemirror_mode": {
    "name": "ipython",
    "version": 3
   },
   "file_extension": ".py",
   "mimetype": "text/x-python",
   "name": "python",
   "nbconvert_exporter": "python",
   "pygments_lexer": "ipython3",
   "version": "3.7.12"
  },
  "papermill": {
   "default_parameters": {},
   "duration": 18.88276,
   "end_time": "2022-10-30T15:01:18.374014",
   "environment_variables": {},
   "exception": null,
   "input_path": "__notebook__.ipynb",
   "output_path": "__notebook__.ipynb",
   "parameters": {},
   "start_time": "2022-10-30T15:00:59.491254",
   "version": "2.3.4"
  }
 },
 "nbformat": 4,
 "nbformat_minor": 5
}
