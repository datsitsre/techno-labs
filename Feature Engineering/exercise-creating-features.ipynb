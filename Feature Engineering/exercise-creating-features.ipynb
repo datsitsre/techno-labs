{
 "cells": [
  {
   "cell_type": "markdown",
   "id": "172de325",
   "metadata": {
    "papermill": {
     "duration": 0.007497,
     "end_time": "2022-10-30T15:18:19.185602",
     "exception": false,
     "start_time": "2022-10-30T15:18:19.178105",
     "status": "completed"
    },
    "tags": []
   },
   "source": [
    "**This notebook is an exercise in the [Feature Engineering](https://www.kaggle.com/learn/feature-engineering) course.  You can reference the tutorial at [this link](https://www.kaggle.com/ryanholbrook/creating-features).**\n",
    "\n",
    "---\n"
   ]
  },
  {
   "cell_type": "markdown",
   "id": "a75058db",
   "metadata": {
    "papermill": {
     "duration": 0.005647,
     "end_time": "2022-10-30T15:18:19.197713",
     "exception": false,
     "start_time": "2022-10-30T15:18:19.192066",
     "status": "completed"
    },
    "tags": []
   },
   "source": [
    "# Introduction #\n",
    "\n",
    "In this exercise you'll start developing the features you identified in Exercise 2 as having the most potential. As you work through this exercise, you might take a moment to look at the data documentation again and consider whether the features we're creating make sense from a real-world perspective, and whether there are any useful combinations that stand out to you.\n",
    "\n",
    "Run this cell to set everything up!"
   ]
  },
  {
   "cell_type": "code",
   "execution_count": 1,
   "id": "64778a8e",
   "metadata": {
    "execution": {
     "iopub.execute_input": "2022-10-30T15:18:19.214424Z",
     "iopub.status.busy": "2022-10-30T15:18:19.213859Z",
     "iopub.status.idle": "2022-10-30T15:18:20.799821Z",
     "shell.execute_reply": "2022-10-30T15:18:20.798310Z"
    },
    "papermill": {
     "duration": 1.599456,
     "end_time": "2022-10-30T15:18:20.803440",
     "exception": false,
     "start_time": "2022-10-30T15:18:19.203984",
     "status": "completed"
    },
    "tags": []
   },
   "outputs": [],
   "source": [
    "# Setup feedback system\n",
    "from learntools.core import binder\n",
    "binder.bind(globals())\n",
    "from learntools.feature_engineering_new.ex3 import *\n",
    "\n",
    "import numpy as np\n",
    "import pandas as pd\n",
    "from sklearn.model_selection import cross_val_score\n",
    "from xgboost import XGBRegressor\n",
    "\n",
    "\n",
    "def score_dataset(X, y, model=XGBRegressor()):\n",
    "    # Label encoding for categoricals\n",
    "    for colname in X.select_dtypes([\"category\", \"object\"]):\n",
    "        X[colname], _ = X[colname].factorize()\n",
    "    # Metric for Housing competition is RMSLE (Root Mean Squared Log Error)\n",
    "    score = cross_val_score(\n",
    "        model, X, y, cv=5, scoring=\"neg_mean_squared_log_error\",\n",
    "    )\n",
    "    score = -1 * score.mean()\n",
    "    score = np.sqrt(score)\n",
    "    return score\n",
    "\n",
    "\n",
    "# Prepare data\n",
    "df = pd.read_csv(\"../input/fe-course-data/ames.csv\")\n",
    "X = df.copy()\n",
    "y = X.pop(\"SalePrice\")"
   ]
  },
  {
   "cell_type": "markdown",
   "id": "186abd4e",
   "metadata": {
    "papermill": {
     "duration": 0.00602,
     "end_time": "2022-10-30T15:18:20.816184",
     "exception": false,
     "start_time": "2022-10-30T15:18:20.810164",
     "status": "completed"
    },
    "tags": []
   },
   "source": [
    "-------------------------------------------------------------------------------\n",
    "\n",
    "Let's start with a few mathematical combinations. We'll focus on features describing areas -- having the same units (square-feet) makes it easy to combine them in sensible ways. Since we're using XGBoost (a tree-based model), we'll focus on ratios and sums.\n",
    "\n",
    "# 1) Create Mathematical Transforms\n",
    "\n",
    "Create the following features:\n",
    "\n",
    "- `LivLotRatio`: the ratio of `GrLivArea` to `LotArea`\n",
    "- `Spaciousness`: the sum of `FirstFlrSF` and `SecondFlrSF` divided by `TotRmsAbvGrd`\n",
    "- `TotalOutsideSF`: the sum of `WoodDeckSF`, `OpenPorchSF`, `EnclosedPorch`, `Threeseasonporch`, and `ScreenPorch`"
   ]
  },
  {
   "cell_type": "code",
   "execution_count": 2,
   "id": "72efa086",
   "metadata": {
    "execution": {
     "iopub.execute_input": "2022-10-30T15:18:20.831249Z",
     "iopub.status.busy": "2022-10-30T15:18:20.830745Z",
     "iopub.status.idle": "2022-10-30T15:18:20.861703Z",
     "shell.execute_reply": "2022-10-30T15:18:20.860412Z"
    },
    "lines_to_next_cell": 0,
    "papermill": {
     "duration": 0.042115,
     "end_time": "2022-10-30T15:18:20.864571",
     "exception": false,
     "start_time": "2022-10-30T15:18:20.822456",
     "status": "completed"
    },
    "tags": []
   },
   "outputs": [
    {
     "data": {
      "application/javascript": [
       "parent.postMessage({\"jupyterEvent\": \"custom.exercise_interaction\", \"data\": {\"outcomeType\": 1, \"valueTowardsCompletion\": 0.2, \"interactionType\": 1, \"questionType\": 2, \"questionId\": \"1_Q1\", \"learnToolsVersion\": \"0.3.4\", \"failureMessage\": \"\", \"exceptionClass\": \"\", \"trace\": \"\"}}, \"*\")"
      ],
      "text/plain": [
       "<IPython.core.display.Javascript object>"
      ]
     },
     "metadata": {},
     "output_type": "display_data"
    },
    {
     "data": {
      "text/markdown": [
       "<span style=\"color:#33cc33\">Correct</span>"
      ],
      "text/plain": [
       "Correct"
      ]
     },
     "metadata": {},
     "output_type": "display_data"
    }
   ],
   "source": [
    "# YOUR CODE HERE\n",
    "X_1 = pd.DataFrame()  # dataframe to hold new features\n",
    "\n",
    "\n",
    "\n",
    "\n",
    "X_1[\"LivLotRatio\"] = df.GrLivArea / df.LotArea\n",
    "X_1[\"Spaciousness\"] = (df.FirstFlrSF + df.SecondFlrSF) / df.TotRmsAbvGrd\n",
    "X_1[\"TotalOutsideSF\"] = df.WoodDeckSF + df.OpenPorchSF + df.EnclosedPorch + df.Threeseasonporch + df.ScreenPorch\n",
    "\n",
    "# Check your answer\n",
    "q_1.check()"
   ]
  },
  {
   "cell_type": "code",
   "execution_count": 3,
   "id": "078474c0",
   "metadata": {
    "execution": {
     "iopub.execute_input": "2022-10-30T15:18:20.880316Z",
     "iopub.status.busy": "2022-10-30T15:18:20.879024Z",
     "iopub.status.idle": "2022-10-30T15:18:20.884812Z",
     "shell.execute_reply": "2022-10-30T15:18:20.883350Z"
    },
    "lines_to_next_cell": 0,
    "papermill": {
     "duration": 0.016395,
     "end_time": "2022-10-30T15:18:20.887561",
     "exception": false,
     "start_time": "2022-10-30T15:18:20.871166",
     "status": "completed"
    },
    "tags": []
   },
   "outputs": [],
   "source": [
    "# Lines below will give you a hint or solution code\n",
    "#q_1.hint()\n",
    "#q_1.solution()"
   ]
  },
  {
   "cell_type": "markdown",
   "id": "d4c9024a",
   "metadata": {
    "papermill": {
     "duration": 0.005983,
     "end_time": "2022-10-30T15:18:20.899977",
     "exception": false,
     "start_time": "2022-10-30T15:18:20.893994",
     "status": "completed"
    },
    "tags": []
   },
   "source": [
    "-------------------------------------------------------------------------------\n",
    "\n",
    "If you've discovered an interaction effect between a numeric feature and a categorical feature, you might want to model it explicitly using a one-hot encoding, like so:\n",
    "\n",
    "```\n",
    "# One-hot encode Categorical feature, adding a column prefix \"Cat\"\n",
    "X_new = pd.get_dummies(df.Categorical, prefix=\"Cat\")\n",
    "\n",
    "# Multiply row-by-row\n",
    "X_new = X_new.mul(df.Continuous, axis=0)\n",
    "\n",
    "# Join the new features to the feature set\n",
    "X = X.join(X_new)\n",
    "```\n",
    "\n",
    "# 2) Interaction with a Categorical\n",
    "\n",
    "We discovered an interaction between `BldgType` and `GrLivArea` in Exercise 2. Now create their interaction features."
   ]
  },
  {
   "cell_type": "code",
   "execution_count": 4,
   "id": "3e55804d",
   "metadata": {
    "execution": {
     "iopub.execute_input": "2022-10-30T15:18:20.915500Z",
     "iopub.status.busy": "2022-10-30T15:18:20.914223Z",
     "iopub.status.idle": "2022-10-30T15:18:20.931871Z",
     "shell.execute_reply": "2022-10-30T15:18:20.930307Z"
    },
    "lines_to_next_cell": 0,
    "papermill": {
     "duration": 0.028786,
     "end_time": "2022-10-30T15:18:20.934923",
     "exception": false,
     "start_time": "2022-10-30T15:18:20.906137",
     "status": "completed"
    },
    "tags": []
   },
   "outputs": [
    {
     "data": {
      "application/javascript": [
       "parent.postMessage({\"jupyterEvent\": \"custom.exercise_interaction\", \"data\": {\"outcomeType\": 1, \"valueTowardsCompletion\": 0.2, \"interactionType\": 1, \"questionType\": 2, \"questionId\": \"2_Q2\", \"learnToolsVersion\": \"0.3.4\", \"failureMessage\": \"\", \"exceptionClass\": \"\", \"trace\": \"\"}}, \"*\")"
      ],
      "text/plain": [
       "<IPython.core.display.Javascript object>"
      ]
     },
     "metadata": {},
     "output_type": "display_data"
    },
    {
     "data": {
      "text/markdown": [
       "<span style=\"color:#33cc33\">Correct</span>"
      ],
      "text/plain": [
       "Correct"
      ]
     },
     "metadata": {},
     "output_type": "display_data"
    }
   ],
   "source": [
    "# YOUR CODE HERE\n",
    "# One-hot encode BldgType. Use `prefix=\"Bldg\"` in `get_dummies`\n",
    "\n",
    "X_2 = pd.get_dummies(df.BldgType, prefix=\"Bldg\")\n",
    "X_2 = X_2.mul(df.GrLivArea, axis=0)\n",
    "\n",
    "# Check your answer\n",
    "q_2.check()"
   ]
  },
  {
   "cell_type": "code",
   "execution_count": 5,
   "id": "03a682ec",
   "metadata": {
    "execution": {
     "iopub.execute_input": "2022-10-30T15:18:20.952932Z",
     "iopub.status.busy": "2022-10-30T15:18:20.952431Z",
     "iopub.status.idle": "2022-10-30T15:18:20.957617Z",
     "shell.execute_reply": "2022-10-30T15:18:20.956332Z"
    },
    "lines_to_next_cell": 0,
    "papermill": {
     "duration": 0.016632,
     "end_time": "2022-10-30T15:18:20.960427",
     "exception": false,
     "start_time": "2022-10-30T15:18:20.943795",
     "status": "completed"
    },
    "tags": []
   },
   "outputs": [],
   "source": [
    "# Lines below will give you a hint or solution code\n",
    "#q_2.hint()\n",
    "#q_2.solution()"
   ]
  },
  {
   "cell_type": "markdown",
   "id": "163ce202",
   "metadata": {
    "lines_to_next_cell": 0,
    "papermill": {
     "duration": 0.006115,
     "end_time": "2022-10-30T15:18:20.973129",
     "exception": false,
     "start_time": "2022-10-30T15:18:20.967014",
     "status": "completed"
    },
    "tags": []
   },
   "source": [
    "# 3) Count Feature\n",
    "\n",
    "Let's try creating a feature that describes how many kinds of outdoor areas a dwelling has. Create a feature `PorchTypes` that counts how many of the following are greater than 0.0:\n",
    "\n",
    "```\n",
    "WoodDeckSF\n",
    "OpenPorchSF\n",
    "EnclosedPorch\n",
    "Threeseasonporch\n",
    "ScreenPorch\n",
    "```"
   ]
  },
  {
   "cell_type": "code",
   "execution_count": 6,
   "id": "b668d2ea",
   "metadata": {
    "execution": {
     "iopub.execute_input": "2022-10-30T15:18:20.988608Z",
     "iopub.status.busy": "2022-10-30T15:18:20.988178Z",
     "iopub.status.idle": "2022-10-30T15:18:21.009612Z",
     "shell.execute_reply": "2022-10-30T15:18:21.008240Z"
    },
    "lines_to_next_cell": 0,
    "papermill": {
     "duration": 0.032703,
     "end_time": "2022-10-30T15:18:21.012304",
     "exception": false,
     "start_time": "2022-10-30T15:18:20.979601",
     "status": "completed"
    },
    "tags": []
   },
   "outputs": [
    {
     "data": {
      "application/javascript": [
       "parent.postMessage({\"jupyterEvent\": \"custom.exercise_interaction\", \"data\": {\"outcomeType\": 1, \"valueTowardsCompletion\": 0.2, \"interactionType\": 1, \"questionType\": 2, \"questionId\": \"3_Q3\", \"learnToolsVersion\": \"0.3.4\", \"failureMessage\": \"\", \"exceptionClass\": \"\", \"trace\": \"\"}}, \"*\")"
      ],
      "text/plain": [
       "<IPython.core.display.Javascript object>"
      ]
     },
     "metadata": {},
     "output_type": "display_data"
    },
    {
     "data": {
      "text/markdown": [
       "<span style=\"color:#33cc33\">Correct</span>"
      ],
      "text/plain": [
       "Correct"
      ]
     },
     "metadata": {},
     "output_type": "display_data"
    }
   ],
   "source": [
    "X_3 = pd.DataFrame()\n",
    "\n",
    "X_3 = pd.DataFrame()\n",
    "\n",
    "X_3[\"PorchTypes\"] = df[[\n",
    "    \"WoodDeckSF\",\n",
    "    \"OpenPorchSF\",\n",
    "    \"EnclosedPorch\",\n",
    "    \"Threeseasonporch\",\n",
    "    \"ScreenPorch\",\n",
    "]].gt(0.0).sum(axis=1)\n",
    "\n",
    "\n",
    "# Check your answer\n",
    "q_3.check()"
   ]
  },
  {
   "cell_type": "code",
   "execution_count": 7,
   "id": "eef82775",
   "metadata": {
    "execution": {
     "iopub.execute_input": "2022-10-30T15:18:21.028480Z",
     "iopub.status.busy": "2022-10-30T15:18:21.027955Z",
     "iopub.status.idle": "2022-10-30T15:18:21.033560Z",
     "shell.execute_reply": "2022-10-30T15:18:21.032077Z"
    },
    "lines_to_next_cell": 0,
    "papermill": {
     "duration": 0.016909,
     "end_time": "2022-10-30T15:18:21.036005",
     "exception": false,
     "start_time": "2022-10-30T15:18:21.019096",
     "status": "completed"
    },
    "tags": []
   },
   "outputs": [],
   "source": [
    "# Lines below will give you a hint or solution code\n",
    "#q_3.hint()\n",
    "#q_3.solution()"
   ]
  },
  {
   "cell_type": "markdown",
   "id": "805cd57f",
   "metadata": {
    "papermill": {
     "duration": 0.006961,
     "end_time": "2022-10-30T15:18:21.049837",
     "exception": false,
     "start_time": "2022-10-30T15:18:21.042876",
     "status": "completed"
    },
    "tags": []
   },
   "source": [
    "# 4) Break Down a Categorical Feature\n",
    "\n",
    "`MSSubClass` describes the type of a dwelling:"
   ]
  },
  {
   "cell_type": "code",
   "execution_count": 8,
   "id": "cb89c6b2",
   "metadata": {
    "execution": {
     "iopub.execute_input": "2022-10-30T15:18:21.065651Z",
     "iopub.status.busy": "2022-10-30T15:18:21.065228Z",
     "iopub.status.idle": "2022-10-30T15:18:21.074171Z",
     "shell.execute_reply": "2022-10-30T15:18:21.072752Z"
    },
    "papermill": {
     "duration": 0.020237,
     "end_time": "2022-10-30T15:18:21.076930",
     "exception": false,
     "start_time": "2022-10-30T15:18:21.056693",
     "status": "completed"
    },
    "tags": []
   },
   "outputs": [
    {
     "data": {
      "text/plain": [
       "array(['One_Story_1946_and_Newer_All_Styles', 'Two_Story_1946_and_Newer',\n",
       "       'One_Story_PUD_1946_and_Newer',\n",
       "       'One_and_Half_Story_Finished_All_Ages', 'Split_Foyer',\n",
       "       'Two_Story_PUD_1946_and_Newer', 'Split_or_Multilevel',\n",
       "       'One_Story_1945_and_Older', 'Duplex_All_Styles_and_Ages',\n",
       "       'Two_Family_conversion_All_Styles_and_Ages',\n",
       "       'One_and_Half_Story_Unfinished_All_Ages',\n",
       "       'Two_Story_1945_and_Older', 'Two_and_Half_Story_All_Ages',\n",
       "       'One_Story_with_Finished_Attic_All_Ages',\n",
       "       'PUD_Multilevel_Split_Level_Foyer',\n",
       "       'One_and_Half_Story_PUD_All_Ages'], dtype=object)"
      ]
     },
     "execution_count": 8,
     "metadata": {},
     "output_type": "execute_result"
    }
   ],
   "source": [
    "df.MSSubClass.unique()"
   ]
  },
  {
   "cell_type": "markdown",
   "id": "5b66b81b",
   "metadata": {
    "papermill": {
     "duration": 0.007137,
     "end_time": "2022-10-30T15:18:21.091268",
     "exception": false,
     "start_time": "2022-10-30T15:18:21.084131",
     "status": "completed"
    },
    "tags": []
   },
   "source": [
    "You can see that there is a more general categorization described (roughly) by the first word of each category. Create a feature containing only these first words by splitting `MSSubClass` at the first underscore `_`. (Hint: In the `split` method use an argument `n=1`.)"
   ]
  },
  {
   "cell_type": "code",
   "execution_count": 9,
   "id": "7c417c68",
   "metadata": {
    "execution": {
     "iopub.execute_input": "2022-10-30T15:18:21.108051Z",
     "iopub.status.busy": "2022-10-30T15:18:21.107601Z",
     "iopub.status.idle": "2022-10-30T15:18:21.134326Z",
     "shell.execute_reply": "2022-10-30T15:18:21.133394Z"
    },
    "lines_to_next_cell": 0,
    "papermill": {
     "duration": 0.038089,
     "end_time": "2022-10-30T15:18:21.136699",
     "exception": false,
     "start_time": "2022-10-30T15:18:21.098610",
     "status": "completed"
    },
    "tags": []
   },
   "outputs": [
    {
     "data": {
      "application/javascript": [
       "parent.postMessage({\"jupyterEvent\": \"custom.exercise_interaction\", \"data\": {\"outcomeType\": 1, \"valueTowardsCompletion\": 0.2, \"interactionType\": 1, \"questionType\": 2, \"questionId\": \"4_Q4\", \"learnToolsVersion\": \"0.3.4\", \"failureMessage\": \"\", \"exceptionClass\": \"\", \"trace\": \"\"}}, \"*\")"
      ],
      "text/plain": [
       "<IPython.core.display.Javascript object>"
      ]
     },
     "metadata": {},
     "output_type": "display_data"
    },
    {
     "data": {
      "text/markdown": [
       "<span style=\"color:#33cc33\">Correct</span>"
      ],
      "text/plain": [
       "Correct"
      ]
     },
     "metadata": {},
     "output_type": "display_data"
    }
   ],
   "source": [
    "X_4 = pd.DataFrame()\n",
    "X_4[\"MSClass\"] = df.MSSubClass.str.split(\"_\", n=1, expand=True)[0]\n",
    "\n",
    "# Check your answer\n",
    "q_4.check()"
   ]
  },
  {
   "cell_type": "code",
   "execution_count": 10,
   "id": "e74aa7d9",
   "metadata": {
    "execution": {
     "iopub.execute_input": "2022-10-30T15:18:21.153427Z",
     "iopub.status.busy": "2022-10-30T15:18:21.152938Z",
     "iopub.status.idle": "2022-10-30T15:18:21.158023Z",
     "shell.execute_reply": "2022-10-30T15:18:21.156682Z"
    },
    "lines_to_next_cell": 0,
    "papermill": {
     "duration": 0.016561,
     "end_time": "2022-10-30T15:18:21.160650",
     "exception": false,
     "start_time": "2022-10-30T15:18:21.144089",
     "status": "completed"
    },
    "tags": []
   },
   "outputs": [],
   "source": [
    "# Lines below will give you a hint or solution code\n",
    "#q_4.hint()\n",
    "#q_4.solution()"
   ]
  },
  {
   "cell_type": "markdown",
   "id": "b79f24b9",
   "metadata": {
    "papermill": {
     "duration": 0.006657,
     "end_time": "2022-10-30T15:18:21.174526",
     "exception": false,
     "start_time": "2022-10-30T15:18:21.167869",
     "status": "completed"
    },
    "tags": []
   },
   "source": [
    "# 5) Use a Grouped Transform\n",
    "\n",
    "The value of a home often depends on how it compares to typical homes in its neighborhood. Create a feature `MedNhbdArea` that describes the *median* of `GrLivArea` grouped on `Neighborhood`."
   ]
  },
  {
   "cell_type": "code",
   "execution_count": 11,
   "id": "7bcefb99",
   "metadata": {
    "execution": {
     "iopub.execute_input": "2022-10-30T15:18:21.193156Z",
     "iopub.status.busy": "2022-10-30T15:18:21.192266Z",
     "iopub.status.idle": "2022-10-30T15:18:21.213510Z",
     "shell.execute_reply": "2022-10-30T15:18:21.211954Z"
    },
    "lines_to_next_cell": 0,
    "papermill": {
     "duration": 0.034184,
     "end_time": "2022-10-30T15:18:21.217569",
     "exception": false,
     "start_time": "2022-10-30T15:18:21.183385",
     "status": "completed"
    },
    "tags": []
   },
   "outputs": [
    {
     "data": {
      "application/javascript": [
       "parent.postMessage({\"jupyterEvent\": \"custom.exercise_interaction\", \"data\": {\"outcomeType\": 1, \"valueTowardsCompletion\": 0.2, \"interactionType\": 1, \"questionType\": 2, \"questionId\": \"5_Q5\", \"learnToolsVersion\": \"0.3.4\", \"failureMessage\": \"\", \"exceptionClass\": \"\", \"trace\": \"\"}}, \"*\")"
      ],
      "text/plain": [
       "<IPython.core.display.Javascript object>"
      ]
     },
     "metadata": {},
     "output_type": "display_data"
    },
    {
     "data": {
      "text/markdown": [
       "<span style=\"color:#33cc33\">Correct</span>"
      ],
      "text/plain": [
       "Correct"
      ]
     },
     "metadata": {},
     "output_type": "display_data"
    }
   ],
   "source": [
    "X_5 = pd.DataFrame()\n",
    "\n",
    "# YOUR CODE HERE\n",
    "\n",
    "X_5[\"MedNhbdArea\"] = df.groupby(\"Neighborhood\")[\"GrLivArea\"].transform(\"median\")\n",
    "# Check your answer\n",
    "q_5.check()"
   ]
  },
  {
   "cell_type": "code",
   "execution_count": 12,
   "id": "5fb487e6",
   "metadata": {
    "execution": {
     "iopub.execute_input": "2022-10-30T15:18:21.240471Z",
     "iopub.status.busy": "2022-10-30T15:18:21.239752Z",
     "iopub.status.idle": "2022-10-30T15:18:21.246058Z",
     "shell.execute_reply": "2022-10-30T15:18:21.244496Z"
    },
    "lines_to_next_cell": 0,
    "papermill": {
     "duration": 0.021256,
     "end_time": "2022-10-30T15:18:21.249812",
     "exception": false,
     "start_time": "2022-10-30T15:18:21.228556",
     "status": "completed"
    },
    "tags": []
   },
   "outputs": [],
   "source": [
    "# Lines below will give you a hint or solution code\n",
    "#q_5.hint()\n",
    "#q_5.solution()"
   ]
  },
  {
   "cell_type": "markdown",
   "id": "9dfe4458",
   "metadata": {
    "papermill": {
     "duration": 0.010042,
     "end_time": "2022-10-30T15:18:21.269511",
     "exception": false,
     "start_time": "2022-10-30T15:18:21.259469",
     "status": "completed"
    },
    "tags": []
   },
   "source": [
    "Now you've made your first new feature set! If you like, you can run the cell below to score the model with all of your new features added:"
   ]
  },
  {
   "cell_type": "code",
   "execution_count": 13,
   "id": "fd683287",
   "metadata": {
    "execution": {
     "iopub.execute_input": "2022-10-30T15:18:21.294601Z",
     "iopub.status.busy": "2022-10-30T15:18:21.294104Z",
     "iopub.status.idle": "2022-10-30T15:18:26.309953Z",
     "shell.execute_reply": "2022-10-30T15:18:26.308795Z"
    },
    "papermill": {
     "duration": 5.031098,
     "end_time": "2022-10-30T15:18:26.313157",
     "exception": false,
     "start_time": "2022-10-30T15:18:21.282059",
     "status": "completed"
    },
    "tags": []
   },
   "outputs": [
    {
     "data": {
      "text/plain": [
       "0.13847331710099203"
      ]
     },
     "execution_count": 13,
     "metadata": {},
     "output_type": "execute_result"
    }
   ],
   "source": [
    "X_new = X.join([X_1, X_2, X_3, X_4, X_5])\n",
    "score_dataset(X_new, y)"
   ]
  },
  {
   "cell_type": "markdown",
   "id": "2937faa5",
   "metadata": {
    "papermill": {
     "duration": 0.007225,
     "end_time": "2022-10-30T15:18:26.328939",
     "exception": false,
     "start_time": "2022-10-30T15:18:26.321714",
     "status": "completed"
    },
    "tags": []
   },
   "source": [
    "# Keep Going #\n",
    "\n",
    "[**Untangle spatial relationships**](https://www.kaggle.com/ryanholbrook/clustering-with-k-means) by adding cluster labels to your dataset."
   ]
  },
  {
   "cell_type": "markdown",
   "id": "d796b57d",
   "metadata": {
    "papermill": {
     "duration": 0.007189,
     "end_time": "2022-10-30T15:18:26.343643",
     "exception": false,
     "start_time": "2022-10-30T15:18:26.336454",
     "status": "completed"
    },
    "tags": []
   },
   "source": [
    "---\n",
    "\n",
    "\n",
    "\n",
    "\n",
    "*Have questions or comments? Visit the [course discussion forum](https://www.kaggle.com/learn/feature-engineering/discussion) to chat with other learners.*"
   ]
  }
 ],
 "metadata": {
  "kernelspec": {
   "display_name": "Python 3",
   "language": "python",
   "name": "python3"
  },
  "language_info": {
   "codemirror_mode": {
    "name": "ipython",
    "version": 3
   },
   "file_extension": ".py",
   "mimetype": "text/x-python",
   "name": "python",
   "nbconvert_exporter": "python",
   "pygments_lexer": "ipython3",
   "version": "3.7.12"
  },
  "papermill": {
   "default_parameters": {},
   "duration": 17.987106,
   "end_time": "2022-10-30T15:18:27.177812",
   "environment_variables": {},
   "exception": null,
   "input_path": "__notebook__.ipynb",
   "output_path": "__notebook__.ipynb",
   "parameters": {},
   "start_time": "2022-10-30T15:18:09.190706",
   "version": "2.3.4"
  }
 },
 "nbformat": 4,
 "nbformat_minor": 5
}
