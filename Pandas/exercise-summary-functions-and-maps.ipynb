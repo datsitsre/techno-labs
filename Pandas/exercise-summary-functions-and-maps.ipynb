{
 "cells": [
  {
   "cell_type": "markdown",
   "id": "8c83cfc3",
   "metadata": {
    "papermill": {
     "duration": 0.007686,
     "end_time": "2022-10-30T14:33:59.026007",
     "exception": false,
     "start_time": "2022-10-30T14:33:59.018321",
     "status": "completed"
    },
    "tags": []
   },
   "source": [
    "**This notebook is an exercise in the [Pandas](https://www.kaggle.com/learn/pandas) course.  You can reference the tutorial at [this link](https://www.kaggle.com/residentmario/summary-functions-and-maps).**\n",
    "\n",
    "---\n"
   ]
  },
  {
   "cell_type": "markdown",
   "id": "3a1f837f",
   "metadata": {
    "papermill": {
     "duration": 0.006128,
     "end_time": "2022-10-30T14:33:59.038759",
     "exception": false,
     "start_time": "2022-10-30T14:33:59.032631",
     "status": "completed"
    },
    "tags": []
   },
   "source": [
    "# Introduction\n",
    "\n",
    "Now you are ready to get a deeper understanding of your data.\n",
    "\n",
    "Run the following cell to load your data and some utility functions (including code to check your answers)."
   ]
  },
  {
   "cell_type": "code",
   "execution_count": 1,
   "id": "e1d13cc5",
   "metadata": {
    "execution": {
     "iopub.execute_input": "2022-10-30T14:33:59.054021Z",
     "iopub.status.busy": "2022-10-30T14:33:59.053324Z",
     "iopub.status.idle": "2022-10-30T14:34:06.272946Z",
     "shell.execute_reply": "2022-10-30T14:34:06.271402Z"
    },
    "papermill": {
     "duration": 7.230718,
     "end_time": "2022-10-30T14:34:06.275918",
     "exception": false,
     "start_time": "2022-10-30T14:33:59.045200",
     "status": "completed"
    },
    "tags": []
   },
   "outputs": [
    {
     "name": "stdout",
     "output_type": "stream",
     "text": [
      "Setup complete.\n"
     ]
    },
    {
     "data": {
      "text/html": [
       "<div>\n",
       "<style scoped>\n",
       "    .dataframe tbody tr th:only-of-type {\n",
       "        vertical-align: middle;\n",
       "    }\n",
       "\n",
       "    .dataframe tbody tr th {\n",
       "        vertical-align: top;\n",
       "    }\n",
       "\n",
       "    .dataframe thead th {\n",
       "        text-align: right;\n",
       "    }\n",
       "</style>\n",
       "<table border=\"1\" class=\"dataframe\">\n",
       "  <thead>\n",
       "    <tr style=\"text-align: right;\">\n",
       "      <th></th>\n",
       "      <th>country</th>\n",
       "      <th>description</th>\n",
       "      <th>designation</th>\n",
       "      <th>points</th>\n",
       "      <th>price</th>\n",
       "      <th>province</th>\n",
       "      <th>region_1</th>\n",
       "      <th>region_2</th>\n",
       "      <th>taster_name</th>\n",
       "      <th>taster_twitter_handle</th>\n",
       "      <th>title</th>\n",
       "      <th>variety</th>\n",
       "      <th>winery</th>\n",
       "    </tr>\n",
       "  </thead>\n",
       "  <tbody>\n",
       "    <tr>\n",
       "      <th>0</th>\n",
       "      <td>Italy</td>\n",
       "      <td>Aromas include tropical fruit, broom, brimston...</td>\n",
       "      <td>Vulkà Bianco</td>\n",
       "      <td>87</td>\n",
       "      <td>NaN</td>\n",
       "      <td>Sicily &amp; Sardinia</td>\n",
       "      <td>Etna</td>\n",
       "      <td>NaN</td>\n",
       "      <td>Kerin O’Keefe</td>\n",
       "      <td>@kerinokeefe</td>\n",
       "      <td>Nicosia 2013 Vulkà Bianco  (Etna)</td>\n",
       "      <td>White Blend</td>\n",
       "      <td>Nicosia</td>\n",
       "    </tr>\n",
       "    <tr>\n",
       "      <th>1</th>\n",
       "      <td>Portugal</td>\n",
       "      <td>This is ripe and fruity, a wine that is smooth...</td>\n",
       "      <td>Avidagos</td>\n",
       "      <td>87</td>\n",
       "      <td>15.0</td>\n",
       "      <td>Douro</td>\n",
       "      <td>NaN</td>\n",
       "      <td>NaN</td>\n",
       "      <td>Roger Voss</td>\n",
       "      <td>@vossroger</td>\n",
       "      <td>Quinta dos Avidagos 2011 Avidagos Red (Douro)</td>\n",
       "      <td>Portuguese Red</td>\n",
       "      <td>Quinta dos Avidagos</td>\n",
       "    </tr>\n",
       "    <tr>\n",
       "      <th>2</th>\n",
       "      <td>US</td>\n",
       "      <td>Tart and snappy, the flavors of lime flesh and...</td>\n",
       "      <td>NaN</td>\n",
       "      <td>87</td>\n",
       "      <td>14.0</td>\n",
       "      <td>Oregon</td>\n",
       "      <td>Willamette Valley</td>\n",
       "      <td>Willamette Valley</td>\n",
       "      <td>Paul Gregutt</td>\n",
       "      <td>@paulgwine</td>\n",
       "      <td>Rainstorm 2013 Pinot Gris (Willamette Valley)</td>\n",
       "      <td>Pinot Gris</td>\n",
       "      <td>Rainstorm</td>\n",
       "    </tr>\n",
       "    <tr>\n",
       "      <th>3</th>\n",
       "      <td>US</td>\n",
       "      <td>Pineapple rind, lemon pith and orange blossom ...</td>\n",
       "      <td>Reserve Late Harvest</td>\n",
       "      <td>87</td>\n",
       "      <td>13.0</td>\n",
       "      <td>Michigan</td>\n",
       "      <td>Lake Michigan Shore</td>\n",
       "      <td>NaN</td>\n",
       "      <td>Alexander Peartree</td>\n",
       "      <td>NaN</td>\n",
       "      <td>St. Julian 2013 Reserve Late Harvest Riesling ...</td>\n",
       "      <td>Riesling</td>\n",
       "      <td>St. Julian</td>\n",
       "    </tr>\n",
       "    <tr>\n",
       "      <th>4</th>\n",
       "      <td>US</td>\n",
       "      <td>Much like the regular bottling from 2012, this...</td>\n",
       "      <td>Vintner's Reserve Wild Child Block</td>\n",
       "      <td>87</td>\n",
       "      <td>65.0</td>\n",
       "      <td>Oregon</td>\n",
       "      <td>Willamette Valley</td>\n",
       "      <td>Willamette Valley</td>\n",
       "      <td>Paul Gregutt</td>\n",
       "      <td>@paulgwine</td>\n",
       "      <td>Sweet Cheeks 2012 Vintner's Reserve Wild Child...</td>\n",
       "      <td>Pinot Noir</td>\n",
       "      <td>Sweet Cheeks</td>\n",
       "    </tr>\n",
       "  </tbody>\n",
       "</table>\n",
       "</div>"
      ],
      "text/plain": [
       "    country                                        description  \\\n",
       "0     Italy  Aromas include tropical fruit, broom, brimston...   \n",
       "1  Portugal  This is ripe and fruity, a wine that is smooth...   \n",
       "2        US  Tart and snappy, the flavors of lime flesh and...   \n",
       "3        US  Pineapple rind, lemon pith and orange blossom ...   \n",
       "4        US  Much like the regular bottling from 2012, this...   \n",
       "\n",
       "                          designation  points  price           province  \\\n",
       "0                        Vulkà Bianco      87    NaN  Sicily & Sardinia   \n",
       "1                            Avidagos      87   15.0              Douro   \n",
       "2                                 NaN      87   14.0             Oregon   \n",
       "3                Reserve Late Harvest      87   13.0           Michigan   \n",
       "4  Vintner's Reserve Wild Child Block      87   65.0             Oregon   \n",
       "\n",
       "              region_1           region_2         taster_name  \\\n",
       "0                 Etna                NaN       Kerin O’Keefe   \n",
       "1                  NaN                NaN          Roger Voss   \n",
       "2    Willamette Valley  Willamette Valley        Paul Gregutt   \n",
       "3  Lake Michigan Shore                NaN  Alexander Peartree   \n",
       "4    Willamette Valley  Willamette Valley        Paul Gregutt   \n",
       "\n",
       "  taster_twitter_handle                                              title  \\\n",
       "0          @kerinokeefe                  Nicosia 2013 Vulkà Bianco  (Etna)   \n",
       "1            @vossroger      Quinta dos Avidagos 2011 Avidagos Red (Douro)   \n",
       "2           @paulgwine       Rainstorm 2013 Pinot Gris (Willamette Valley)   \n",
       "3                   NaN  St. Julian 2013 Reserve Late Harvest Riesling ...   \n",
       "4           @paulgwine   Sweet Cheeks 2012 Vintner's Reserve Wild Child...   \n",
       "\n",
       "          variety               winery  \n",
       "0     White Blend              Nicosia  \n",
       "1  Portuguese Red  Quinta dos Avidagos  \n",
       "2      Pinot Gris            Rainstorm  \n",
       "3        Riesling           St. Julian  \n",
       "4      Pinot Noir         Sweet Cheeks  "
      ]
     },
     "execution_count": 1,
     "metadata": {},
     "output_type": "execute_result"
    }
   ],
   "source": [
    "import pandas as pd\n",
    "pd.set_option(\"display.max_rows\", 5)\n",
    "reviews = pd.read_csv(\"../input/wine-reviews/winemag-data-130k-v2.csv\", index_col=0)\n",
    "\n",
    "from learntools.core import binder; binder.bind(globals())\n",
    "from learntools.pandas.summary_functions_and_maps import *\n",
    "print(\"Setup complete.\")\n",
    "\n",
    "reviews.head()"
   ]
  },
  {
   "cell_type": "markdown",
   "id": "16358213",
   "metadata": {
    "papermill": {
     "duration": 0.006602,
     "end_time": "2022-10-30T14:34:06.289914",
     "exception": false,
     "start_time": "2022-10-30T14:34:06.283312",
     "status": "completed"
    },
    "tags": []
   },
   "source": [
    "# Exercises"
   ]
  },
  {
   "cell_type": "markdown",
   "id": "5c9d6469",
   "metadata": {
    "papermill": {
     "duration": 0.006559,
     "end_time": "2022-10-30T14:34:06.303437",
     "exception": false,
     "start_time": "2022-10-30T14:34:06.296878",
     "status": "completed"
    },
    "tags": []
   },
   "source": [
    "## 1.\n",
    "\n",
    "What is the median of the `points` column in the `reviews` DataFrame?"
   ]
  },
  {
   "cell_type": "code",
   "execution_count": 2,
   "id": "6f135d4a",
   "metadata": {
    "execution": {
     "iopub.execute_input": "2022-10-30T14:34:06.320457Z",
     "iopub.status.busy": "2022-10-30T14:34:06.319032Z",
     "iopub.status.idle": "2022-10-30T14:34:06.352189Z",
     "shell.execute_reply": "2022-10-30T14:34:06.350915Z"
    },
    "papermill": {
     "duration": 0.044396,
     "end_time": "2022-10-30T14:34:06.354721",
     "exception": false,
     "start_time": "2022-10-30T14:34:06.310325",
     "status": "completed"
    },
    "tags": []
   },
   "outputs": [
    {
     "data": {
      "text/plain": [
       "points    16313.435859\n",
       "price     15554.923201\n",
       "dtype: float64"
      ]
     },
     "execution_count": 2,
     "metadata": {},
     "output_type": "execute_result"
    }
   ],
   "source": [
    "reviews.describe().mean()"
   ]
  },
  {
   "cell_type": "code",
   "execution_count": 3,
   "id": "26a2353e",
   "metadata": {
    "execution": {
     "iopub.execute_input": "2022-10-30T14:34:06.371222Z",
     "iopub.status.busy": "2022-10-30T14:34:06.370016Z",
     "iopub.status.idle": "2022-10-30T14:34:06.383026Z",
     "shell.execute_reply": "2022-10-30T14:34:06.381806Z"
    },
    "papermill": {
     "duration": 0.024406,
     "end_time": "2022-10-30T14:34:06.386059",
     "exception": false,
     "start_time": "2022-10-30T14:34:06.361653",
     "status": "completed"
    },
    "tags": []
   },
   "outputs": [
    {
     "data": {
      "application/javascript": [
       "parent.postMessage({\"jupyterEvent\": \"custom.exercise_interaction\", \"data\": {\"outcomeType\": 1, \"valueTowardsCompletion\": 0.14285714285714285, \"interactionType\": 1, \"questionType\": 1, \"questionId\": \"1_MedianPoints\", \"learnToolsVersion\": \"0.3.4\", \"failureMessage\": \"\", \"exceptionClass\": \"\", \"trace\": \"\"}}, \"*\")"
      ],
      "text/plain": [
       "<IPython.core.display.Javascript object>"
      ]
     },
     "metadata": {},
     "output_type": "display_data"
    },
    {
     "data": {
      "text/markdown": [
       "<span style=\"color:#33cc33\">Correct</span>"
      ],
      "text/plain": [
       "Correct"
      ]
     },
     "metadata": {},
     "output_type": "display_data"
    }
   ],
   "source": [
    "median_points = reviews.points.median()\n",
    "\n",
    "# Check your answer\n",
    "q1.check()"
   ]
  },
  {
   "cell_type": "code",
   "execution_count": 4,
   "id": "7c94f1ce",
   "metadata": {
    "execution": {
     "iopub.execute_input": "2022-10-30T14:34:06.404308Z",
     "iopub.status.busy": "2022-10-30T14:34:06.403781Z",
     "iopub.status.idle": "2022-10-30T14:34:06.408995Z",
     "shell.execute_reply": "2022-10-30T14:34:06.407522Z"
    },
    "papermill": {
     "duration": 0.016399,
     "end_time": "2022-10-30T14:34:06.411600",
     "exception": false,
     "start_time": "2022-10-30T14:34:06.395201",
     "status": "completed"
    },
    "tags": []
   },
   "outputs": [],
   "source": [
    "#q1.hint()\n",
    "#q1.solution()"
   ]
  },
  {
   "cell_type": "markdown",
   "id": "9a240420",
   "metadata": {
    "papermill": {
     "duration": 0.007078,
     "end_time": "2022-10-30T14:34:06.426191",
     "exception": false,
     "start_time": "2022-10-30T14:34:06.419113",
     "status": "completed"
    },
    "tags": []
   },
   "source": [
    "## 2. \n",
    "What countries are represented in the dataset? (Your answer should not include any duplicates.)"
   ]
  },
  {
   "cell_type": "code",
   "execution_count": 5,
   "id": "9ddba286",
   "metadata": {
    "execution": {
     "iopub.execute_input": "2022-10-30T14:34:06.443415Z",
     "iopub.status.busy": "2022-10-30T14:34:06.442517Z",
     "iopub.status.idle": "2022-10-30T14:34:06.466257Z",
     "shell.execute_reply": "2022-10-30T14:34:06.465271Z"
    },
    "papermill": {
     "duration": 0.03497,
     "end_time": "2022-10-30T14:34:06.468577",
     "exception": false,
     "start_time": "2022-10-30T14:34:06.433607",
     "status": "completed"
    },
    "tags": []
   },
   "outputs": [
    {
     "data": {
      "application/javascript": [
       "parent.postMessage({\"jupyterEvent\": \"custom.exercise_interaction\", \"data\": {\"outcomeType\": 1, \"valueTowardsCompletion\": 0.14285714285714285, \"interactionType\": 1, \"questionType\": 2, \"questionId\": \"2_UniqueCountries\", \"learnToolsVersion\": \"0.3.4\", \"failureMessage\": \"\", \"exceptionClass\": \"\", \"trace\": \"\"}}, \"*\")"
      ],
      "text/plain": [
       "<IPython.core.display.Javascript object>"
      ]
     },
     "metadata": {},
     "output_type": "display_data"
    },
    {
     "data": {
      "text/markdown": [
       "<span style=\"color:#33cc33\">Correct</span>"
      ],
      "text/plain": [
       "Correct"
      ]
     },
     "metadata": {},
     "output_type": "display_data"
    }
   ],
   "source": [
    "countries = reviews.country.unique()\n",
    "\n",
    "# Check your answer\n",
    "q2.check()"
   ]
  },
  {
   "cell_type": "code",
   "execution_count": 6,
   "id": "5d441c44",
   "metadata": {
    "execution": {
     "iopub.execute_input": "2022-10-30T14:34:06.486262Z",
     "iopub.status.busy": "2022-10-30T14:34:06.485515Z",
     "iopub.status.idle": "2022-10-30T14:34:06.490204Z",
     "shell.execute_reply": "2022-10-30T14:34:06.489317Z"
    },
    "papermill": {
     "duration": 0.016428,
     "end_time": "2022-10-30T14:34:06.492624",
     "exception": false,
     "start_time": "2022-10-30T14:34:06.476196",
     "status": "completed"
    },
    "tags": []
   },
   "outputs": [],
   "source": [
    "#q2.hint()\n",
    "#q2.solution()"
   ]
  },
  {
   "cell_type": "markdown",
   "id": "8232d3c7",
   "metadata": {
    "papermill": {
     "duration": 0.007387,
     "end_time": "2022-10-30T14:34:06.507636",
     "exception": false,
     "start_time": "2022-10-30T14:34:06.500249",
     "status": "completed"
    },
    "tags": []
   },
   "source": [
    "## 3.\n",
    "How often does each country appear in the dataset? Create a Series `reviews_per_country` mapping countries to the count of reviews of wines from that country."
   ]
  },
  {
   "cell_type": "code",
   "execution_count": 7,
   "id": "5d3a0420",
   "metadata": {
    "execution": {
     "iopub.execute_input": "2022-10-30T14:34:06.526151Z",
     "iopub.status.busy": "2022-10-30T14:34:06.525432Z",
     "iopub.status.idle": "2022-10-30T14:34:06.544485Z",
     "shell.execute_reply": "2022-10-30T14:34:06.543138Z"
    },
    "papermill": {
     "duration": 0.031649,
     "end_time": "2022-10-30T14:34:06.547156",
     "exception": false,
     "start_time": "2022-10-30T14:34:06.515507",
     "status": "completed"
    },
    "tags": []
   },
   "outputs": [
    {
     "data": {
      "application/javascript": [
       "parent.postMessage({\"jupyterEvent\": \"custom.exercise_interaction\", \"data\": {\"outcomeType\": 1, \"valueTowardsCompletion\": 0.14285714285714285, \"interactionType\": 1, \"questionType\": 1, \"questionId\": \"3_ReviewsPerCountry\", \"learnToolsVersion\": \"0.3.4\", \"failureMessage\": \"\", \"exceptionClass\": \"\", \"trace\": \"\"}}, \"*\")"
      ],
      "text/plain": [
       "<IPython.core.display.Javascript object>"
      ]
     },
     "metadata": {},
     "output_type": "display_data"
    },
    {
     "data": {
      "text/markdown": [
       "<span style=\"color:#33cc33\">Correct</span>"
      ],
      "text/plain": [
       "Correct"
      ]
     },
     "metadata": {},
     "output_type": "display_data"
    }
   ],
   "source": [
    "reviews_per_country = reviews['country'].value_counts()\n",
    "\n",
    "# Check your answer\n",
    "q3.check()"
   ]
  },
  {
   "cell_type": "code",
   "execution_count": 8,
   "id": "f65a84db",
   "metadata": {
    "execution": {
     "iopub.execute_input": "2022-10-30T14:34:06.564868Z",
     "iopub.status.busy": "2022-10-30T14:34:06.564457Z",
     "iopub.status.idle": "2022-10-30T14:34:06.568933Z",
     "shell.execute_reply": "2022-10-30T14:34:06.567701Z"
    },
    "papermill": {
     "duration": 0.016628,
     "end_time": "2022-10-30T14:34:06.571710",
     "exception": false,
     "start_time": "2022-10-30T14:34:06.555082",
     "status": "completed"
    },
    "tags": []
   },
   "outputs": [],
   "source": [
    "#q3.hint()\n",
    "#q3.solution()"
   ]
  },
  {
   "cell_type": "markdown",
   "id": "f2fc93af",
   "metadata": {
    "papermill": {
     "duration": 0.007563,
     "end_time": "2022-10-30T14:34:06.587311",
     "exception": false,
     "start_time": "2022-10-30T14:34:06.579748",
     "status": "completed"
    },
    "tags": []
   },
   "source": [
    "## 4.\n",
    "Create variable `centered_price` containing a version of the `price` column with the mean price subtracted.\n",
    "\n",
    "(Note: this 'centering' transformation is a common preprocessing step before applying various machine learning algorithms.) "
   ]
  },
  {
   "cell_type": "code",
   "execution_count": 9,
   "id": "a9666f61",
   "metadata": {
    "execution": {
     "iopub.execute_input": "2022-10-30T14:34:06.605772Z",
     "iopub.status.busy": "2022-10-30T14:34:06.604873Z",
     "iopub.status.idle": "2022-10-30T14:34:06.617627Z",
     "shell.execute_reply": "2022-10-30T14:34:06.616422Z"
    },
    "papermill": {
     "duration": 0.025019,
     "end_time": "2022-10-30T14:34:06.620327",
     "exception": false,
     "start_time": "2022-10-30T14:34:06.595308",
     "status": "completed"
    },
    "tags": []
   },
   "outputs": [
    {
     "data": {
      "application/javascript": [
       "parent.postMessage({\"jupyterEvent\": \"custom.exercise_interaction\", \"data\": {\"outcomeType\": 1, \"valueTowardsCompletion\": 0.14285714285714285, \"interactionType\": 1, \"questionType\": 1, \"questionId\": \"4_CenteredPrice\", \"learnToolsVersion\": \"0.3.4\", \"failureMessage\": \"\", \"exceptionClass\": \"\", \"trace\": \"\"}}, \"*\")"
      ],
      "text/plain": [
       "<IPython.core.display.Javascript object>"
      ]
     },
     "metadata": {},
     "output_type": "display_data"
    },
    {
     "data": {
      "text/markdown": [
       "<span style=\"color:#33cc33\">Correct</span>"
      ],
      "text/plain": [
       "Correct"
      ]
     },
     "metadata": {},
     "output_type": "display_data"
    }
   ],
   "source": [
    "centered_price = reviews.price - reviews.price.mean()\n",
    "\n",
    "# Check your answer\n",
    "q4.check()"
   ]
  },
  {
   "cell_type": "code",
   "execution_count": 10,
   "id": "01915379",
   "metadata": {
    "execution": {
     "iopub.execute_input": "2022-10-30T14:34:06.639139Z",
     "iopub.status.busy": "2022-10-30T14:34:06.638451Z",
     "iopub.status.idle": "2022-10-30T14:34:06.642926Z",
     "shell.execute_reply": "2022-10-30T14:34:06.642098Z"
    },
    "papermill": {
     "duration": 0.016662,
     "end_time": "2022-10-30T14:34:06.645243",
     "exception": false,
     "start_time": "2022-10-30T14:34:06.628581",
     "status": "completed"
    },
    "tags": []
   },
   "outputs": [],
   "source": [
    "#q4.hint()\n",
    "#q4.solution()"
   ]
  },
  {
   "cell_type": "markdown",
   "id": "f62307be",
   "metadata": {
    "papermill": {
     "duration": 0.00775,
     "end_time": "2022-10-30T14:34:06.661179",
     "exception": false,
     "start_time": "2022-10-30T14:34:06.653429",
     "status": "completed"
    },
    "tags": []
   },
   "source": [
    "## 5.\n",
    "I'm an economical wine buyer. Which wine is the \"best bargain\"? Create a variable `bargain_wine` with the title of the wine with the highest points-to-price ratio in the dataset."
   ]
  },
  {
   "cell_type": "code",
   "execution_count": 11,
   "id": "cb12a78d",
   "metadata": {
    "execution": {
     "iopub.execute_input": "2022-10-30T14:34:06.680573Z",
     "iopub.status.busy": "2022-10-30T14:34:06.679828Z",
     "iopub.status.idle": "2022-10-30T14:34:06.695838Z",
     "shell.execute_reply": "2022-10-30T14:34:06.694442Z"
    },
    "papermill": {
     "duration": 0.028908,
     "end_time": "2022-10-30T14:34:06.698667",
     "exception": false,
     "start_time": "2022-10-30T14:34:06.669759",
     "status": "completed"
    },
    "tags": []
   },
   "outputs": [
    {
     "data": {
      "application/javascript": [
       "parent.postMessage({\"jupyterEvent\": \"custom.exercise_interaction\", \"data\": {\"outcomeType\": 1, \"valueTowardsCompletion\": 0.14285714285714285, \"interactionType\": 1, \"questionType\": 2, \"questionId\": \"5_BargainWine\", \"learnToolsVersion\": \"0.3.4\", \"failureMessage\": \"\", \"exceptionClass\": \"\", \"trace\": \"\"}}, \"*\")"
      ],
      "text/plain": [
       "<IPython.core.display.Javascript object>"
      ]
     },
     "metadata": {},
     "output_type": "display_data"
    },
    {
     "data": {
      "text/markdown": [
       "<span style=\"color:#33cc33\">Correct</span>"
      ],
      "text/plain": [
       "Correct"
      ]
     },
     "metadata": {},
     "output_type": "display_data"
    }
   ],
   "source": [
    "\n",
    "bargain_idx = (reviews.points / reviews.price).idxmax()\n",
    "bargain_wine = reviews.loc[bargain_idx, 'title']\n",
    "# Check your answer\n",
    "q5.check()"
   ]
  },
  {
   "cell_type": "code",
   "execution_count": 12,
   "id": "0f77338a",
   "metadata": {
    "execution": {
     "iopub.execute_input": "2022-10-30T14:34:06.718449Z",
     "iopub.status.busy": "2022-10-30T14:34:06.717974Z",
     "iopub.status.idle": "2022-10-30T14:34:06.722671Z",
     "shell.execute_reply": "2022-10-30T14:34:06.721237Z"
    },
    "papermill": {
     "duration": 0.01843,
     "end_time": "2022-10-30T14:34:06.725592",
     "exception": false,
     "start_time": "2022-10-30T14:34:06.707162",
     "status": "completed"
    },
    "tags": []
   },
   "outputs": [],
   "source": [
    "#q5.hint()\n",
    "#q5.solution()"
   ]
  },
  {
   "cell_type": "markdown",
   "id": "e6f446e4",
   "metadata": {
    "papermill": {
     "duration": 0.008056,
     "end_time": "2022-10-30T14:34:06.742596",
     "exception": false,
     "start_time": "2022-10-30T14:34:06.734540",
     "status": "completed"
    },
    "tags": []
   },
   "source": [
    "## 6.\n",
    "There are only so many words you can use when describing a bottle of wine. Is a wine more likely to be \"tropical\" or \"fruity\"? Create a Series `descriptor_counts` counting how many times each of these two words appears in the `description` column in the dataset. (For simplicity, let's ignore the capitalized versions of these words.)"
   ]
  },
  {
   "cell_type": "code",
   "execution_count": 13,
   "id": "8a23a195",
   "metadata": {
    "execution": {
     "iopub.execute_input": "2022-10-30T14:34:06.761562Z",
     "iopub.status.busy": "2022-10-30T14:34:06.761035Z",
     "iopub.status.idle": "2022-10-30T14:34:06.908681Z",
     "shell.execute_reply": "2022-10-30T14:34:06.907415Z"
    },
    "papermill": {
     "duration": 0.160448,
     "end_time": "2022-10-30T14:34:06.911573",
     "exception": false,
     "start_time": "2022-10-30T14:34:06.751125",
     "status": "completed"
    },
    "tags": []
   },
   "outputs": [
    {
     "data": {
      "application/javascript": [
       "parent.postMessage({\"jupyterEvent\": \"custom.exercise_interaction\", \"data\": {\"outcomeType\": 1, \"valueTowardsCompletion\": 0.14285714285714285, \"interactionType\": 1, \"questionType\": 1, \"questionId\": \"6_DescriptorCounts\", \"learnToolsVersion\": \"0.3.4\", \"failureMessage\": \"\", \"exceptionClass\": \"\", \"trace\": \"\"}}, \"*\")"
      ],
      "text/plain": [
       "<IPython.core.display.Javascript object>"
      ]
     },
     "metadata": {},
     "output_type": "display_data"
    },
    {
     "data": {
      "text/markdown": [
       "<span style=\"color:#33cc33\">Correct</span>"
      ],
      "text/plain": [
       "Correct"
      ]
     },
     "metadata": {},
     "output_type": "display_data"
    }
   ],
   "source": [
    "n_trop = reviews.description.map(lambda desc: \"tropical\" in desc).sum()\n",
    "n_fruity = reviews.description.map(lambda desc: \"fruity\" in desc).sum()\n",
    "descriptor_counts = pd.Series([n_trop, n_fruity], index=['tropical', 'fruity'])\n",
    "\n",
    "\n",
    "# Check your answer\n",
    "q6.check()"
   ]
  },
  {
   "cell_type": "code",
   "execution_count": 14,
   "id": "9026d655",
   "metadata": {
    "execution": {
     "iopub.execute_input": "2022-10-30T14:34:06.930993Z",
     "iopub.status.busy": "2022-10-30T14:34:06.930563Z",
     "iopub.status.idle": "2022-10-30T14:34:06.935737Z",
     "shell.execute_reply": "2022-10-30T14:34:06.934198Z"
    },
    "papermill": {
     "duration": 0.018668,
     "end_time": "2022-10-30T14:34:06.938864",
     "exception": false,
     "start_time": "2022-10-30T14:34:06.920196",
     "status": "completed"
    },
    "tags": []
   },
   "outputs": [],
   "source": [
    "#q6.hint()\n",
    "#q6.solution()"
   ]
  },
  {
   "cell_type": "markdown",
   "id": "dc7e666c",
   "metadata": {
    "papermill": {
     "duration": 0.008228,
     "end_time": "2022-10-30T14:34:06.956125",
     "exception": false,
     "start_time": "2022-10-30T14:34:06.947897",
     "status": "completed"
    },
    "tags": []
   },
   "source": [
    "## 7.\n",
    "We'd like to host these wine reviews on our website, but a rating system ranging from 80 to 100 points is too hard to understand - we'd like to translate them into simple star ratings. A score of 95 or higher counts as 3 stars, a score of at least 85 but less than 95 is 2 stars. Any other score is 1 star.\n",
    "\n",
    "Also, the Canadian Vintners Association bought a lot of ads on the site, so any wines from Canada should automatically get 3 stars, regardless of points.\n",
    "\n",
    "Create a series `star_ratings` with the number of stars corresponding to each review in the dataset."
   ]
  },
  {
   "cell_type": "code",
   "execution_count": 15,
   "id": "54e11849",
   "metadata": {
    "execution": {
     "iopub.execute_input": "2022-10-30T14:34:06.976345Z",
     "iopub.status.busy": "2022-10-30T14:34:06.975872Z",
     "iopub.status.idle": "2022-10-30T14:34:10.958858Z",
     "shell.execute_reply": "2022-10-30T14:34:10.957541Z"
    },
    "papermill": {
     "duration": 3.996951,
     "end_time": "2022-10-30T14:34:10.961760",
     "exception": false,
     "start_time": "2022-10-30T14:34:06.964809",
     "status": "completed"
    },
    "tags": []
   },
   "outputs": [
    {
     "data": {
      "application/javascript": [
       "parent.postMessage({\"jupyterEvent\": \"custom.exercise_interaction\", \"data\": {\"outcomeType\": 1, \"valueTowardsCompletion\": 0.14285714285714285, \"interactionType\": 1, \"questionType\": 1, \"questionId\": \"7_StarRatings\", \"learnToolsVersion\": \"0.3.4\", \"failureMessage\": \"\", \"exceptionClass\": \"\", \"trace\": \"\"}}, \"*\")"
      ],
      "text/plain": [
       "<IPython.core.display.Javascript object>"
      ]
     },
     "metadata": {},
     "output_type": "display_data"
    },
    {
     "data": {
      "text/markdown": [
       "<span style=\"color:#33cc33\">Correct</span>"
      ],
      "text/plain": [
       "Correct"
      ]
     },
     "metadata": {},
     "output_type": "display_data"
    }
   ],
   "source": [
    "def stars(row):\n",
    "    if row.country == 'Canada':\n",
    "        return 3\n",
    "    elif row.points >= 95:\n",
    "        return 3\n",
    "    elif row.points >= 85:\n",
    "        return 2\n",
    "    else:\n",
    "        return 1\n",
    "\n",
    "star_ratings = reviews.apply(stars, axis='columns')\n",
    "\n",
    "\n",
    "\n",
    "# Check your answer\n",
    "q7.check()"
   ]
  },
  {
   "cell_type": "code",
   "execution_count": 16,
   "id": "c661a1eb",
   "metadata": {
    "execution": {
     "iopub.execute_input": "2022-10-30T14:34:10.982188Z",
     "iopub.status.busy": "2022-10-30T14:34:10.981393Z",
     "iopub.status.idle": "2022-10-30T14:34:10.986976Z",
     "shell.execute_reply": "2022-10-30T14:34:10.985682Z"
    },
    "papermill": {
     "duration": 0.019157,
     "end_time": "2022-10-30T14:34:10.989924",
     "exception": false,
     "start_time": "2022-10-30T14:34:10.970767",
     "status": "completed"
    },
    "tags": []
   },
   "outputs": [],
   "source": [
    "#q7.hint()\n",
    "#q7.solution()"
   ]
  },
  {
   "cell_type": "markdown",
   "id": "e37a3a0f",
   "metadata": {
    "papermill": {
     "duration": 0.008428,
     "end_time": "2022-10-30T14:34:11.007252",
     "exception": false,
     "start_time": "2022-10-30T14:34:10.998824",
     "status": "completed"
    },
    "tags": []
   },
   "source": [
    "# Keep going\n",
    "Continue to **[grouping and sorting](https://www.kaggle.com/residentmario/grouping-and-sorting)**."
   ]
  },
  {
   "cell_type": "markdown",
   "id": "a681ddc7",
   "metadata": {
    "papermill": {
     "duration": 0.008393,
     "end_time": "2022-10-30T14:34:11.024568",
     "exception": false,
     "start_time": "2022-10-30T14:34:11.016175",
     "status": "completed"
    },
    "tags": []
   },
   "source": [
    "---\n",
    "\n",
    "\n",
    "\n",
    "\n",
    "*Have questions or comments? Visit the [course discussion forum](https://www.kaggle.com/learn/pandas/discussion) to chat with other learners.*"
   ]
  }
 ],
 "metadata": {
  "kernelspec": {
   "display_name": "Python 3",
   "language": "python",
   "name": "python3"
  },
  "language_info": {
   "codemirror_mode": {
    "name": "ipython",
    "version": 3
   },
   "file_extension": ".py",
   "mimetype": "text/x-python",
   "name": "python",
   "nbconvert_exporter": "python",
   "pygments_lexer": "ipython3",
   "version": "3.7.12"
  },
  "papermill": {
   "default_parameters": {},
   "duration": 22.903905,
   "end_time": "2022-10-30T14:34:11.859074",
   "environment_variables": {},
   "exception": null,
   "input_path": "__notebook__.ipynb",
   "output_path": "__notebook__.ipynb",
   "parameters": {},
   "start_time": "2022-10-30T14:33:48.955169",
   "version": "2.3.4"
  }
 },
 "nbformat": 4,
 "nbformat_minor": 5
}
