{
 "cells": [
  {
   "cell_type": "markdown",
   "id": "d293fda3",
   "metadata": {
    "papermill": {
     "duration": 0.005593,
     "end_time": "2022-10-30T14:38:39.426833",
     "exception": false,
     "start_time": "2022-10-30T14:38:39.421240",
     "status": "completed"
    },
    "tags": []
   },
   "source": [
    "**This notebook is an exercise in the [Pandas](https://www.kaggle.com/learn/pandas) course.  You can reference the tutorial at [this link](https://www.kaggle.com/residentmario/grouping-and-sorting).**\n",
    "\n",
    "---\n"
   ]
  },
  {
   "cell_type": "markdown",
   "id": "58e5d373",
   "metadata": {
    "papermill": {
     "duration": 0.004562,
     "end_time": "2022-10-30T14:38:39.436280",
     "exception": false,
     "start_time": "2022-10-30T14:38:39.431718",
     "status": "completed"
    },
    "tags": []
   },
   "source": [
    "# Introduction\n",
    "\n",
    "In these exercises we'll apply groupwise analysis to our dataset.\n",
    "\n",
    "Run the code cell below to load the data before running the exercises."
   ]
  },
  {
   "cell_type": "code",
   "execution_count": 1,
   "id": "1bc0c8d2",
   "metadata": {
    "execution": {
     "iopub.execute_input": "2022-10-30T14:38:39.447509Z",
     "iopub.status.busy": "2022-10-30T14:38:39.447104Z",
     "iopub.status.idle": "2022-10-30T14:38:41.794218Z",
     "shell.execute_reply": "2022-10-30T14:38:41.791599Z"
    },
    "papermill": {
     "duration": 2.356012,
     "end_time": "2022-10-30T14:38:41.797124",
     "exception": false,
     "start_time": "2022-10-30T14:38:39.441112",
     "status": "completed"
    },
    "tags": []
   },
   "outputs": [
    {
     "name": "stdout",
     "output_type": "stream",
     "text": [
      "Setup complete.\n"
     ]
    }
   ],
   "source": [
    "import pandas as pd\n",
    "\n",
    "reviews = pd.read_csv(\"../input/wine-reviews/winemag-data-130k-v2.csv\", index_col=0)\n",
    "#pd.set_option(\"display.max_rows\", 5)\n",
    "\n",
    "from learntools.core import binder; binder.bind(globals())\n",
    "from learntools.pandas.grouping_and_sorting import *\n",
    "print(\"Setup complete.\")"
   ]
  },
  {
   "cell_type": "markdown",
   "id": "5be3242b",
   "metadata": {
    "papermill": {
     "duration": 0.004809,
     "end_time": "2022-10-30T14:38:41.807584",
     "exception": false,
     "start_time": "2022-10-30T14:38:41.802775",
     "status": "completed"
    },
    "tags": []
   },
   "source": [
    "# Exercises"
   ]
  },
  {
   "cell_type": "markdown",
   "id": "a9a2aa30",
   "metadata": {
    "papermill": {
     "duration": 0.004915,
     "end_time": "2022-10-30T14:38:41.817280",
     "exception": false,
     "start_time": "2022-10-30T14:38:41.812365",
     "status": "completed"
    },
    "tags": []
   },
   "source": [
    "## 1.\n",
    "Who are the most common wine reviewers in the dataset? Create a `Series` whose index is the `taster_twitter_handle` category from the dataset, and whose values count how many reviews each person wrote."
   ]
  },
  {
   "cell_type": "code",
   "execution_count": 2,
   "id": "7f0ad7f0",
   "metadata": {
    "execution": {
     "iopub.execute_input": "2022-10-30T14:38:41.828227Z",
     "iopub.status.busy": "2022-10-30T14:38:41.827875Z",
     "iopub.status.idle": "2022-10-30T14:38:41.851258Z",
     "shell.execute_reply": "2022-10-30T14:38:41.850351Z"
    },
    "papermill": {
     "duration": 0.030841,
     "end_time": "2022-10-30T14:38:41.852853",
     "exception": false,
     "start_time": "2022-10-30T14:38:41.822012",
     "status": "completed"
    },
    "tags": []
   },
   "outputs": [
    {
     "data": {
      "application/javascript": [
       "parent.postMessage({\"jupyterEvent\": \"custom.exercise_interaction\", \"data\": {\"outcomeType\": 1, \"valueTowardsCompletion\": 0.16666666666666666, \"interactionType\": 1, \"questionType\": 1, \"questionId\": \"1_ReviewsWritten\", \"learnToolsVersion\": \"0.3.4\", \"failureMessage\": \"\", \"exceptionClass\": \"\", \"trace\": \"\"}}, \"*\")"
      ],
      "text/plain": [
       "<IPython.core.display.Javascript object>"
      ]
     },
     "metadata": {},
     "output_type": "display_data"
    },
    {
     "data": {
      "text/markdown": [
       "<span style=\"color:#33cc33\">Correct:</span> \n",
       "\n",
       "\n",
       "```python\n",
       "reviews_written = reviews.groupby('taster_twitter_handle').size()\n",
       "```\n",
       "or\n",
       "```python\n",
       "reviews_written = reviews.groupby('taster_twitter_handle').taster_twitter_handle.count()\n",
       "```\n"
      ],
      "text/plain": [
       "Correct: \n",
       "\n",
       "\n",
       "```python\n",
       "reviews_written = reviews.groupby('taster_twitter_handle').size()\n",
       "```\n",
       "or\n",
       "```python\n",
       "reviews_written = reviews.groupby('taster_twitter_handle').taster_twitter_handle.count()\n",
       "```"
      ]
     },
     "metadata": {},
     "output_type": "display_data"
    }
   ],
   "source": [
    "# Your code here\n",
    "reviews_written = reviews.groupby('taster_twitter_handle').taster_twitter_handle.count()\n",
    "\n",
    "\n",
    "\n",
    "# Check your answer\n",
    "q1.check()"
   ]
  },
  {
   "cell_type": "code",
   "execution_count": 3,
   "id": "3a29df81",
   "metadata": {
    "execution": {
     "iopub.execute_input": "2022-10-30T14:38:41.864055Z",
     "iopub.status.busy": "2022-10-30T14:38:41.863783Z",
     "iopub.status.idle": "2022-10-30T14:38:41.867323Z",
     "shell.execute_reply": "2022-10-30T14:38:41.866523Z"
    },
    "papermill": {
     "duration": 0.010975,
     "end_time": "2022-10-30T14:38:41.869055",
     "exception": false,
     "start_time": "2022-10-30T14:38:41.858080",
     "status": "completed"
    },
    "tags": []
   },
   "outputs": [],
   "source": [
    "#q1.hint()\n",
    "#q1.solution()"
   ]
  },
  {
   "cell_type": "markdown",
   "id": "c2028ad6",
   "metadata": {
    "papermill": {
     "duration": 0.005686,
     "end_time": "2022-10-30T14:38:41.879819",
     "exception": false,
     "start_time": "2022-10-30T14:38:41.874133",
     "status": "completed"
    },
    "tags": []
   },
   "source": [
    "## 2.\n",
    "What is the best wine I can buy for a given amount of money? Create a `Series` whose index is wine prices and whose values is the maximum number of points a wine costing that much was given in a review. Sort the values by price, ascending (so that `4.0` dollars is at the top and `3300.0` dollars is at the bottom)."
   ]
  },
  {
   "cell_type": "code",
   "execution_count": 4,
   "id": "c2fb97f5",
   "metadata": {
    "execution": {
     "iopub.execute_input": "2022-10-30T14:38:41.890842Z",
     "iopub.status.busy": "2022-10-30T14:38:41.890547Z",
     "iopub.status.idle": "2022-10-30T14:38:41.901500Z",
     "shell.execute_reply": "2022-10-30T14:38:41.900681Z"
    },
    "papermill": {
     "duration": 0.018307,
     "end_time": "2022-10-30T14:38:41.903029",
     "exception": false,
     "start_time": "2022-10-30T14:38:41.884722",
     "status": "completed"
    },
    "tags": []
   },
   "outputs": [
    {
     "data": {
      "application/javascript": [
       "parent.postMessage({\"jupyterEvent\": \"custom.exercise_interaction\", \"data\": {\"outcomeType\": 1, \"valueTowardsCompletion\": 0.16666666666666666, \"interactionType\": 1, \"questionType\": 1, \"questionId\": \"2_BestRatingPerPrice\", \"learnToolsVersion\": \"0.3.4\", \"failureMessage\": \"\", \"exceptionClass\": \"\", \"trace\": \"\"}}, \"*\")"
      ],
      "text/plain": [
       "<IPython.core.display.Javascript object>"
      ]
     },
     "metadata": {},
     "output_type": "display_data"
    },
    {
     "data": {
      "text/markdown": [
       "<span style=\"color:#33cc33\">Correct</span>"
      ],
      "text/plain": [
       "Correct"
      ]
     },
     "metadata": {},
     "output_type": "display_data"
    }
   ],
   "source": [
    "\n",
    "best_rating_per_price = reviews.groupby('price')['points'].max().sort_index()\n",
    "# Check your answer\n",
    "q2.check()"
   ]
  },
  {
   "cell_type": "code",
   "execution_count": 5,
   "id": "a05f7736",
   "metadata": {
    "execution": {
     "iopub.execute_input": "2022-10-30T14:38:41.914814Z",
     "iopub.status.busy": "2022-10-30T14:38:41.914515Z",
     "iopub.status.idle": "2022-10-30T14:38:41.918171Z",
     "shell.execute_reply": "2022-10-30T14:38:41.917339Z"
    },
    "papermill": {
     "duration": 0.011292,
     "end_time": "2022-10-30T14:38:41.919801",
     "exception": false,
     "start_time": "2022-10-30T14:38:41.908509",
     "status": "completed"
    },
    "tags": []
   },
   "outputs": [],
   "source": [
    "#q2.hint()\n",
    "#q2.solution()"
   ]
  },
  {
   "cell_type": "markdown",
   "id": "5c6a5e67",
   "metadata": {
    "papermill": {
     "duration": 0.004918,
     "end_time": "2022-10-30T14:38:41.929940",
     "exception": false,
     "start_time": "2022-10-30T14:38:41.925022",
     "status": "completed"
    },
    "tags": []
   },
   "source": [
    "## 3.\n",
    "What are the minimum and maximum prices for each `variety` of wine? Create a `DataFrame` whose index is the `variety` category from the dataset and whose values are the `min` and `max` values thereof."
   ]
  },
  {
   "cell_type": "code",
   "execution_count": 6,
   "id": "3f46ca04",
   "metadata": {
    "execution": {
     "iopub.execute_input": "2022-10-30T14:38:41.941546Z",
     "iopub.status.busy": "2022-10-30T14:38:41.941213Z",
     "iopub.status.idle": "2022-10-30T14:38:41.960713Z",
     "shell.execute_reply": "2022-10-30T14:38:41.959974Z"
    },
    "papermill": {
     "duration": 0.02707,
     "end_time": "2022-10-30T14:38:41.962191",
     "exception": false,
     "start_time": "2022-10-30T14:38:41.935121",
     "status": "completed"
    },
    "tags": []
   },
   "outputs": [
    {
     "data": {
      "application/javascript": [
       "parent.postMessage({\"jupyterEvent\": \"custom.exercise_interaction\", \"data\": {\"outcomeType\": 1, \"valueTowardsCompletion\": 0.16666666666666666, \"interactionType\": 1, \"questionType\": 1, \"questionId\": \"3_PriceExtremes\", \"learnToolsVersion\": \"0.3.4\", \"failureMessage\": \"\", \"exceptionClass\": \"\", \"trace\": \"\"}}, \"*\")"
      ],
      "text/plain": [
       "<IPython.core.display.Javascript object>"
      ]
     },
     "metadata": {},
     "output_type": "display_data"
    },
    {
     "data": {
      "text/markdown": [
       "<span style=\"color:#33cc33\">Correct</span>"
      ],
      "text/plain": [
       "Correct"
      ]
     },
     "metadata": {},
     "output_type": "display_data"
    }
   ],
   "source": [
    "\n",
    "price_extremes = reviews.groupby('variety').price.agg([min, max])\n",
    "# Check your answer\n",
    "q3.check()"
   ]
  },
  {
   "cell_type": "code",
   "execution_count": 7,
   "id": "28650d95",
   "metadata": {
    "execution": {
     "iopub.execute_input": "2022-10-30T14:38:41.974312Z",
     "iopub.status.busy": "2022-10-30T14:38:41.973740Z",
     "iopub.status.idle": "2022-10-30T14:38:41.976752Z",
     "shell.execute_reply": "2022-10-30T14:38:41.976170Z"
    },
    "papermill": {
     "duration": 0.010653,
     "end_time": "2022-10-30T14:38:41.978289",
     "exception": false,
     "start_time": "2022-10-30T14:38:41.967636",
     "status": "completed"
    },
    "tags": []
   },
   "outputs": [],
   "source": [
    "#q3.hint()\n",
    "#q3.solution()"
   ]
  },
  {
   "cell_type": "markdown",
   "id": "2be9e281",
   "metadata": {
    "papermill": {
     "duration": 0.0051,
     "end_time": "2022-10-30T14:38:41.988851",
     "exception": false,
     "start_time": "2022-10-30T14:38:41.983751",
     "status": "completed"
    },
    "tags": []
   },
   "source": [
    "## 4.\n",
    "What are the most expensive wine varieties? Create a variable `sorted_varieties` containing a copy of the dataframe from the previous question where varieties are sorted in descending order based on minimum price, then on maximum price (to break ties)."
   ]
  },
  {
   "cell_type": "code",
   "execution_count": 8,
   "id": "e9cd3758",
   "metadata": {
    "execution": {
     "iopub.execute_input": "2022-10-30T14:38:42.001312Z",
     "iopub.status.busy": "2022-10-30T14:38:42.000787Z",
     "iopub.status.idle": "2022-10-30T14:38:42.009621Z",
     "shell.execute_reply": "2022-10-30T14:38:42.008819Z"
    },
    "papermill": {
     "duration": 0.017099,
     "end_time": "2022-10-30T14:38:42.011264",
     "exception": false,
     "start_time": "2022-10-30T14:38:41.994165",
     "status": "completed"
    },
    "tags": []
   },
   "outputs": [
    {
     "data": {
      "application/javascript": [
       "parent.postMessage({\"jupyterEvent\": \"custom.exercise_interaction\", \"data\": {\"outcomeType\": 1, \"valueTowardsCompletion\": 0.16666666666666666, \"interactionType\": 1, \"questionType\": 1, \"questionId\": \"4_SortedVarieties\", \"learnToolsVersion\": \"0.3.4\", \"failureMessage\": \"\", \"exceptionClass\": \"\", \"trace\": \"\"}}, \"*\")"
      ],
      "text/plain": [
       "<IPython.core.display.Javascript object>"
      ]
     },
     "metadata": {},
     "output_type": "display_data"
    },
    {
     "data": {
      "text/markdown": [
       "<span style=\"color:#33cc33\">Correct</span>"
      ],
      "text/plain": [
       "Correct"
      ]
     },
     "metadata": {},
     "output_type": "display_data"
    }
   ],
   "source": [
    "\n",
    "sorted_varieties = price_extremes.sort_values(by=['min', 'max'], ascending=False)\n",
    "# Check your answer\n",
    "q4.check()"
   ]
  },
  {
   "cell_type": "code",
   "execution_count": 9,
   "id": "485eebe3",
   "metadata": {
    "execution": {
     "iopub.execute_input": "2022-10-30T14:38:42.023495Z",
     "iopub.status.busy": "2022-10-30T14:38:42.023192Z",
     "iopub.status.idle": "2022-10-30T14:38:42.026616Z",
     "shell.execute_reply": "2022-10-30T14:38:42.025846Z"
    },
    "papermill": {
     "duration": 0.011175,
     "end_time": "2022-10-30T14:38:42.028125",
     "exception": false,
     "start_time": "2022-10-30T14:38:42.016950",
     "status": "completed"
    },
    "tags": []
   },
   "outputs": [],
   "source": [
    "#q4.hint()\n",
    "#q4.solution()"
   ]
  },
  {
   "cell_type": "markdown",
   "id": "e8a7d0db",
   "metadata": {
    "papermill": {
     "duration": 0.005439,
     "end_time": "2022-10-30T14:38:42.039118",
     "exception": false,
     "start_time": "2022-10-30T14:38:42.033679",
     "status": "completed"
    },
    "tags": []
   },
   "source": [
    "## 5.\n",
    "Create a `Series` whose index is reviewers and whose values is the average review score given out by that reviewer. Hint: you will need the `taster_name` and `points` columns."
   ]
  },
  {
   "cell_type": "code",
   "execution_count": 10,
   "id": "dc05b77c",
   "metadata": {
    "execution": {
     "iopub.execute_input": "2022-10-30T14:38:42.051892Z",
     "iopub.status.busy": "2022-10-30T14:38:42.051348Z",
     "iopub.status.idle": "2022-10-30T14:38:42.066634Z",
     "shell.execute_reply": "2022-10-30T14:38:42.066058Z"
    },
    "papermill": {
     "duration": 0.023439,
     "end_time": "2022-10-30T14:38:42.068129",
     "exception": false,
     "start_time": "2022-10-30T14:38:42.044690",
     "status": "completed"
    },
    "tags": []
   },
   "outputs": [
    {
     "data": {
      "application/javascript": [
       "parent.postMessage({\"jupyterEvent\": \"custom.exercise_interaction\", \"data\": {\"outcomeType\": 1, \"valueTowardsCompletion\": 0.16666666666666666, \"interactionType\": 1, \"questionType\": 1, \"questionId\": \"5_ReviewerMeanRatings\", \"learnToolsVersion\": \"0.3.4\", \"failureMessage\": \"\", \"exceptionClass\": \"\", \"trace\": \"\"}}, \"*\")"
      ],
      "text/plain": [
       "<IPython.core.display.Javascript object>"
      ]
     },
     "metadata": {},
     "output_type": "display_data"
    },
    {
     "data": {
      "text/markdown": [
       "<span style=\"color:#33cc33\">Correct</span>"
      ],
      "text/plain": [
       "Correct"
      ]
     },
     "metadata": {},
     "output_type": "display_data"
    }
   ],
   "source": [
    "reviewer_mean_ratings = reviews.groupby('taster_name').points.mean()\n",
    "# Check your answer\n",
    "q5.check()"
   ]
  },
  {
   "cell_type": "code",
   "execution_count": 11,
   "id": "10c78195",
   "metadata": {
    "execution": {
     "iopub.execute_input": "2022-10-30T14:38:42.081202Z",
     "iopub.status.busy": "2022-10-30T14:38:42.080732Z",
     "iopub.status.idle": "2022-10-30T14:38:42.083968Z",
     "shell.execute_reply": "2022-10-30T14:38:42.083133Z"
    },
    "papermill": {
     "duration": 0.01167,
     "end_time": "2022-10-30T14:38:42.085678",
     "exception": false,
     "start_time": "2022-10-30T14:38:42.074008",
     "status": "completed"
    },
    "tags": []
   },
   "outputs": [],
   "source": [
    "#q5.hint()\n",
    "#q5.solution()"
   ]
  },
  {
   "cell_type": "markdown",
   "id": "fae60c8d",
   "metadata": {
    "papermill": {
     "duration": 0.005484,
     "end_time": "2022-10-30T14:38:42.097006",
     "exception": false,
     "start_time": "2022-10-30T14:38:42.091522",
     "status": "completed"
    },
    "tags": []
   },
   "source": [
    "Are there significant differences in the average scores assigned by the various reviewers? Run the cell below to use the `describe()` method to see a summary of the range of values."
   ]
  },
  {
   "cell_type": "code",
   "execution_count": 12,
   "id": "499a5fcd",
   "metadata": {
    "execution": {
     "iopub.execute_input": "2022-10-30T14:38:42.110147Z",
     "iopub.status.busy": "2022-10-30T14:38:42.109402Z",
     "iopub.status.idle": "2022-10-30T14:38:42.119827Z",
     "shell.execute_reply": "2022-10-30T14:38:42.118984Z"
    },
    "papermill": {
     "duration": 0.01868,
     "end_time": "2022-10-30T14:38:42.121419",
     "exception": false,
     "start_time": "2022-10-30T14:38:42.102739",
     "status": "completed"
    },
    "tags": []
   },
   "outputs": [
    {
     "data": {
      "text/plain": [
       "count    19.000000\n",
       "mean     88.233026\n",
       "std       1.243610\n",
       "min      85.855422\n",
       "25%      87.323501\n",
       "50%      88.536235\n",
       "75%      88.975256\n",
       "max      90.562551\n",
       "Name: points, dtype: float64"
      ]
     },
     "execution_count": 12,
     "metadata": {},
     "output_type": "execute_result"
    }
   ],
   "source": [
    "reviewer_mean_ratings.describe()"
   ]
  },
  {
   "cell_type": "markdown",
   "id": "ec5a089e",
   "metadata": {
    "papermill": {
     "duration": 0.005655,
     "end_time": "2022-10-30T14:38:42.133236",
     "exception": false,
     "start_time": "2022-10-30T14:38:42.127581",
     "status": "completed"
    },
    "tags": []
   },
   "source": [
    "## 6.\n",
    "What combination of countries and varieties are most common? Create a `Series` whose index is a `MultiIndex`of `{country, variety}` pairs. For example, a pinot noir produced in the US should map to `{\"US\", \"Pinot Noir\"}`. Sort the values in the `Series` in descending order based on wine count."
   ]
  },
  {
   "cell_type": "code",
   "execution_count": 13,
   "id": "a1a05c56",
   "metadata": {
    "execution": {
     "iopub.execute_input": "2022-10-30T14:38:42.147026Z",
     "iopub.status.busy": "2022-10-30T14:38:42.146116Z",
     "iopub.status.idle": "2022-10-30T14:38:42.174567Z",
     "shell.execute_reply": "2022-10-30T14:38:42.173369Z"
    },
    "papermill": {
     "duration": 0.037425,
     "end_time": "2022-10-30T14:38:42.176646",
     "exception": false,
     "start_time": "2022-10-30T14:38:42.139221",
     "status": "completed"
    },
    "tags": []
   },
   "outputs": [
    {
     "data": {
      "application/javascript": [
       "parent.postMessage({\"jupyterEvent\": \"custom.exercise_interaction\", \"data\": {\"outcomeType\": 1, \"valueTowardsCompletion\": 0.16666666666666666, \"interactionType\": 1, \"questionType\": 1, \"questionId\": \"6_GroupbyCountryVariety\", \"learnToolsVersion\": \"0.3.4\", \"failureMessage\": \"\", \"exceptionClass\": \"\", \"trace\": \"\"}}, \"*\")"
      ],
      "text/plain": [
       "<IPython.core.display.Javascript object>"
      ]
     },
     "metadata": {},
     "output_type": "display_data"
    },
    {
     "data": {
      "text/markdown": [
       "<span style=\"color:#33cc33\">Correct</span>"
      ],
      "text/plain": [
       "Correct"
      ]
     },
     "metadata": {},
     "output_type": "display_data"
    }
   ],
   "source": [
    "\n",
    "country_variety_counts = reviews.groupby(['country', 'variety']).size().sort_values(ascending=False)\n",
    "# Check your answer\n",
    "q6.check()"
   ]
  },
  {
   "cell_type": "code",
   "execution_count": 14,
   "id": "32caa613",
   "metadata": {
    "execution": {
     "iopub.execute_input": "2022-10-30T14:38:42.190432Z",
     "iopub.status.busy": "2022-10-30T14:38:42.190107Z",
     "iopub.status.idle": "2022-10-30T14:38:42.193473Z",
     "shell.execute_reply": "2022-10-30T14:38:42.192672Z"
    },
    "papermill": {
     "duration": 0.012187,
     "end_time": "2022-10-30T14:38:42.195203",
     "exception": false,
     "start_time": "2022-10-30T14:38:42.183016",
     "status": "completed"
    },
    "tags": []
   },
   "outputs": [],
   "source": [
    "#q6.hint()\n",
    "#q6.solution()"
   ]
  },
  {
   "cell_type": "markdown",
   "id": "12c83369",
   "metadata": {
    "papermill": {
     "duration": 0.00582,
     "end_time": "2022-10-30T14:38:42.207128",
     "exception": false,
     "start_time": "2022-10-30T14:38:42.201308",
     "status": "completed"
    },
    "tags": []
   },
   "source": [
    "# Keep going\n",
    "\n",
    "Move on to the [**data types and missing data**](https://www.kaggle.com/residentmario/data-types-and-missing-values)."
   ]
  },
  {
   "cell_type": "markdown",
   "id": "8568b53f",
   "metadata": {
    "papermill": {
     "duration": 0.005899,
     "end_time": "2022-10-30T14:38:42.219062",
     "exception": false,
     "start_time": "2022-10-30T14:38:42.213163",
     "status": "completed"
    },
    "tags": []
   },
   "source": [
    "---\n",
    "\n",
    "\n",
    "\n",
    "\n",
    "*Have questions or comments? Visit the [course discussion forum](https://www.kaggle.com/learn/pandas/discussion) to chat with other learners.*"
   ]
  }
 ],
 "metadata": {
  "kernelspec": {
   "display_name": "Python 3",
   "language": "python",
   "name": "python3"
  },
  "language_info": {
   "codemirror_mode": {
    "name": "ipython",
    "version": 3
   },
   "file_extension": ".py",
   "mimetype": "text/x-python",
   "name": "python",
   "nbconvert_exporter": "python",
   "pygments_lexer": "ipython3",
   "version": "3.7.12"
  },
  "papermill": {
   "default_parameters": {},
   "duration": 10.046956,
   "end_time": "2022-10-30T14:38:42.843124",
   "environment_variables": {},
   "exception": null,
   "input_path": "__notebook__.ipynb",
   "output_path": "__notebook__.ipynb",
   "parameters": {},
   "start_time": "2022-10-30T14:38:32.796168",
   "version": "2.3.4"
  }
 },
 "nbformat": 4,
 "nbformat_minor": 5
}
