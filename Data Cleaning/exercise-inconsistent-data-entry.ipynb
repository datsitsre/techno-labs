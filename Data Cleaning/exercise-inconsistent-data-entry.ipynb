{
 "cells": [
  {
   "cell_type": "markdown",
   "id": "ef5326e0",
   "metadata": {
    "papermill": {
     "duration": 0.008129,
     "end_time": "2022-10-30T12:51:17.404284",
     "exception": false,
     "start_time": "2022-10-30T12:51:17.396155",
     "status": "completed"
    },
    "tags": []
   },
   "source": [
    "**This notebook is an exercise in the [Data Cleaning](https://www.kaggle.com/learn/data-cleaning) course.  You can reference the tutorial at [this link](https://www.kaggle.com/alexisbcook/inconsistent-data-entry).**\n",
    "\n",
    "---\n"
   ]
  },
  {
   "cell_type": "markdown",
   "id": "ad73c5cb",
   "metadata": {
    "papermill": {
     "duration": 0.005563,
     "end_time": "2022-10-30T12:51:17.416574",
     "exception": false,
     "start_time": "2022-10-30T12:51:17.411011",
     "status": "completed"
    },
    "tags": []
   },
   "source": [
    "In this exercise, you'll apply what you learned in the **Inconsistent data entry** tutorial.\n",
    "\n",
    "# Setup\n",
    "\n",
    "The questions below will give you feedback on your work. Run the following cell to set up the feedback system."
   ]
  },
  {
   "cell_type": "code",
   "execution_count": 1,
   "id": "9c126772",
   "metadata": {
    "execution": {
     "iopub.execute_input": "2022-10-30T12:51:17.430757Z",
     "iopub.status.busy": "2022-10-30T12:51:17.430207Z",
     "iopub.status.idle": "2022-10-30T12:51:17.714163Z",
     "shell.execute_reply": "2022-10-30T12:51:17.712255Z"
    },
    "papermill": {
     "duration": 0.294526,
     "end_time": "2022-10-30T12:51:17.716988",
     "exception": false,
     "start_time": "2022-10-30T12:51:17.422462",
     "status": "completed"
    },
    "tags": []
   },
   "outputs": [
    {
     "name": "stdout",
     "output_type": "stream",
     "text": [
      "Setup Complete\n"
     ]
    }
   ],
   "source": [
    "from learntools.core import binder\n",
    "binder.bind(globals())\n",
    "from learntools.data_cleaning.ex5 import *\n",
    "print(\"Setup Complete\")"
   ]
  },
  {
   "cell_type": "markdown",
   "id": "0106948d",
   "metadata": {
    "papermill": {
     "duration": 0.005537,
     "end_time": "2022-10-30T12:51:17.728409",
     "exception": false,
     "start_time": "2022-10-30T12:51:17.722872",
     "status": "completed"
    },
    "tags": []
   },
   "source": [
    "# Get our environment set up\n",
    "\n",
    "The first thing we'll need to do is load in the libraries and dataset we'll be using.  We use the same dataset from the tutorial."
   ]
  },
  {
   "cell_type": "code",
   "execution_count": 2,
   "id": "b57fa334",
   "metadata": {
    "execution": {
     "iopub.execute_input": "2022-10-30T12:51:17.742189Z",
     "iopub.status.busy": "2022-10-30T12:51:17.741696Z",
     "iopub.status.idle": "2022-10-30T12:51:17.762417Z",
     "shell.execute_reply": "2022-10-30T12:51:17.760588Z"
    },
    "papermill": {
     "duration": 0.03205,
     "end_time": "2022-10-30T12:51:17.766277",
     "exception": false,
     "start_time": "2022-10-30T12:51:17.734227",
     "status": "completed"
    },
    "tags": []
   },
   "outputs": [],
   "source": [
    "# modules we'll use\n",
    "import pandas as pd\n",
    "import numpy as np\n",
    "\n",
    "# helpful modules\n",
    "import fuzzywuzzy\n",
    "from fuzzywuzzy import process\n",
    "import chardet\n",
    "\n",
    "# read in all our data\n",
    "professors = pd.read_csv(\"../input/pakistan-intellectual-capital/pakistan_intellectual_capital.csv\")\n",
    "\n",
    "# set seed for reproducibility\n",
    "np.random.seed(0)"
   ]
  },
  {
   "cell_type": "markdown",
   "id": "acf0b944",
   "metadata": {
    "papermill": {
     "duration": 0.006353,
     "end_time": "2022-10-30T12:51:17.780216",
     "exception": false,
     "start_time": "2022-10-30T12:51:17.773863",
     "status": "completed"
    },
    "tags": []
   },
   "source": [
    "Next, we'll redo all of the work that we did in the tutorial."
   ]
  },
  {
   "cell_type": "code",
   "execution_count": 3,
   "id": "63372362",
   "metadata": {
    "execution": {
     "iopub.execute_input": "2022-10-30T12:51:17.796912Z",
     "iopub.status.busy": "2022-10-30T12:51:17.795908Z",
     "iopub.status.idle": "2022-10-30T12:51:17.814527Z",
     "shell.execute_reply": "2022-10-30T12:51:17.813216Z"
    },
    "papermill": {
     "duration": 0.032025,
     "end_time": "2022-10-30T12:51:17.818701",
     "exception": false,
     "start_time": "2022-10-30T12:51:17.786676",
     "status": "completed"
    },
    "tags": []
   },
   "outputs": [
    {
     "name": "stdout",
     "output_type": "stream",
     "text": [
      "All done!\n"
     ]
    }
   ],
   "source": [
    "# convert to lower case\n",
    "professors['Country'] = professors['Country'].str.lower()\n",
    "# remove trailing white spaces\n",
    "professors['Country'] = professors['Country'].str.strip()\n",
    "\n",
    "# get the top 10 closest matches to \"south korea\"\n",
    "countries = professors['Country'].unique()\n",
    "matches = fuzzywuzzy.process.extract(\"south korea\", countries, limit=10, scorer=fuzzywuzzy.fuzz.token_sort_ratio)\n",
    "\n",
    "def replace_matches_in_column(df, column, string_to_match, min_ratio = 47):\n",
    "    # get a list of unique strings\n",
    "    strings = df[column].unique()\n",
    "    \n",
    "    # get the top 10 closest matches to our input string\n",
    "    matches = fuzzywuzzy.process.extract(string_to_match, strings, \n",
    "                                         limit=10, scorer=fuzzywuzzy.fuzz.token_sort_ratio)\n",
    "\n",
    "    # only get matches with a ratio > 90\n",
    "    close_matches = [matches[0] for matches in matches if matches[1] >= min_ratio]\n",
    "\n",
    "    # get the rows of all the close matches in our dataframe\n",
    "    rows_with_matches = df[column].isin(close_matches)\n",
    "\n",
    "    # replace all rows with close matches with the input matches \n",
    "    df.loc[rows_with_matches, column] = string_to_match\n",
    "    \n",
    "    # let us know the function's done\n",
    "    print(\"All done!\")\n",
    "    \n",
    "replace_matches_in_column(df=professors, column='Country', string_to_match=\"south korea\")\n",
    "countries = professors['Country'].unique()"
   ]
  },
  {
   "cell_type": "markdown",
   "id": "67c0d069",
   "metadata": {
    "papermill": {
     "duration": 0.00744,
     "end_time": "2022-10-30T12:51:17.833491",
     "exception": false,
     "start_time": "2022-10-30T12:51:17.826051",
     "status": "completed"
    },
    "tags": []
   },
   "source": [
    "# 1) Examine another column\n",
    "\n",
    "Write code below to take a look at all the unique values in the \"Graduated from\" column."
   ]
  },
  {
   "cell_type": "code",
   "execution_count": 4,
   "id": "3f4fd453",
   "metadata": {
    "execution": {
     "iopub.execute_input": "2022-10-30T12:51:17.851737Z",
     "iopub.status.busy": "2022-10-30T12:51:17.850720Z",
     "iopub.status.idle": "2022-10-30T12:51:17.864716Z",
     "shell.execute_reply": "2022-10-30T12:51:17.863510Z"
    },
    "papermill": {
     "duration": 0.024472,
     "end_time": "2022-10-30T12:51:17.867793",
     "exception": false,
     "start_time": "2022-10-30T12:51:17.843321",
     "status": "completed"
    },
    "tags": []
   },
   "outputs": [
    {
     "data": {
      "text/plain": [
       "array(['Asian Institute of Technology',\n",
       "       'Balochistan University of Information Technology, Engineering and Management Sciences',\n",
       "       'University of Balochistan',\n",
       "       \"Sardar Bahadur Khan Women's University\",\n",
       "       'SRH Hochschule Heidelberg',\n",
       "       'Institute of Business Administration,Karachi', 'DUET,Karachi',\n",
       "       'University of Turbat', 'University of Vienna',\n",
       "       'Monash University', 'University of Stirling',\n",
       "       'Chinese Academy of Sciences', 'University of Innsbruck',\n",
       "       'Vienna University of Technology', 'University of Paris-Est',\n",
       "       'The University of Cambridge', 'Harbin Institute of Technology',\n",
       "       'University of Nice, Sophia Antipolis', 'The University of York',\n",
       "       'Galilée - Université Paris 13', 'University of Bedfordshire',\n",
       "       'North Dakota State University', 'Kyungpook National University',\n",
       "       'The University of Manchester',\n",
       "       'National University of Sciences and Technology',\n",
       "       'FAST– National University of Computer and Emerging Sciences',\n",
       "       'Capital University of Science & Technology', 'Gomal University',\n",
       "       'University of Malaya', 'KTH Royal Institute of Technology',\n",
       "       'University of Technology',\n",
       "       'COMSATS Institute of Information Technology',\n",
       "       'Government College University', 'Mohammad Ali Jinnah University',\n",
       "       'Shaheed Zulfikar Ali Bhutto Institute of Science and Technology',\n",
       "       'Blekinge Institute of Technology', 'University of Grenoble',\n",
       "       'Politecnico di Torino', '\\xa0University of Missouri, KC',\n",
       "       'University of Bonn', 'University of Paris',\n",
       "       'The University of Leeds', '\\xa0University of Windsor',\n",
       "       '\\xa0National University of Sciences and Technology-NIIT',\n",
       "       'University of Trento', 'Stockholm University',\n",
       "       'University of New South Wales, Sydney',\n",
       "       'Kingston University London', 'Griffith University',\n",
       "       'University of Salford', 'Loughborough University',\n",
       "       'International Islamic University,Islamabad',\n",
       "       'University of Central Missouri',\n",
       "       'Riphah International University', 'University of BedfordShire',\n",
       "       'University of Illinois', 'University Of Oslo',\n",
       "       'Nancy 2 University', 'University of Limerick',\n",
       "       'Ghulam Ishaq Khan Institute of Science and Technology',\n",
       "       'University Of Waterloo', 'University of Stuttgart',\n",
       "       'Liverpool John Moores University', 'University Of Caen',\n",
       "       'Paris Tech University of Eurecom', 'University Of Salford',\n",
       "       'Lahore University of Management Sciences',\n",
       "       'Dresden University Of Technology, Dresden\\xa0',\n",
       "       'COMSATS Institute of Information Technology,Vehari',\n",
       "       'COMSATS Institute of Information Technology,Wah Cantt',\n",
       "       'TU Berlin',\n",
       "       'FAST– National University of Computer and Emerging Sciences,Islamabad',\n",
       "       'Tsinghua University', 'The University of Auckland',\n",
       "       'IQRA University', 'Universiti Teknologi PETRONAS',\n",
       "       'COMSATS Institute of Information Technology,Islamabad',\n",
       "       'Razak School of Engineering and Advanced Technology, Universiti Teknologi Malaysia (UTM)',\n",
       "       'National University of Modern Languages',\n",
       "       'University of Engineering and Technology',\n",
       "       'University Institute of Information Technology',\n",
       "       'University of Arid Agriculture', 'Quaid-i-Azam University',\n",
       "       'Queen Mary University of London',\n",
       "       'Pakistan Institute of Engineering and Applied Sciences',\n",
       "       'Pohang University of Science and Technology',\n",
       "       'Uppsala University', 'Kyung Hee University',\n",
       "       'University of Liverpool', 'University of Sunderland',\n",
       "       'Mid Sweden University', 'Bahria University,Islamabad',\n",
       "       'Chosun University', 'University of Sussex',\n",
       "       'Paris Descartes University', 'University of Leicester',\n",
       "       'University of Porto', 'University of Manchester',\n",
       "       'Université Henri Poincaré, Nancy 1,', 'Bahria University',\n",
       "       'Centre for Advanced Studies in Engineering',\n",
       "       'Norwegian University of Science and Technology (NTNU),',\n",
       "       'The Islamia University of Bahawalpur ', 'Universiti Technologi',\n",
       "       'California State University', 'University of Genova',\n",
       "       'University of Engineering and Technology,Taxila',\n",
       "       'University of\\xa0Liverpool John Moores University', 'Guildford',\n",
       "       'University of Bradford', 'Graz University of Technology',\n",
       "       'Huazhong University of Science and Technology (HUST), Wuhan',\n",
       "       'University of Konstanz',\n",
       "       'National University of Modern Languages,Islamabad',\n",
       "       'FAST– National University of Computer and Emerging Sciences,Lahore',\n",
       "       'Gwangju Institute of Science and Technology',\n",
       "       'University of Birmingham', 'Manchester University',\n",
       "       'Beijing Institute of Technology', 'University of Paisley',\n",
       "       'Univ of Porto/Univ of Aveiro Portugal/Uni of Minho',\n",
       "       'University of Peshawar', 'Universität Salzburg',\n",
       "       'Colorado State University', 'University of Virginia',\n",
       "       'University of Orleans', 'Zhejiang University',\n",
       "       'University of Leeds', 'Foundation University',\n",
       "       'Barani Institute of Information Technology', 'Abasyn University',\n",
       "       'Pir Mehr Ali Shah Arid Agriculture University', 'Preston',\n",
       "       'University of Bergen', 'Universtiy of Lahore',\n",
       "       'HITEC University,Taxila', 'Allama Iqbal Open University',\n",
       "       'University of Wales,Aberystwyth', '\\xa0University of Bonn',\n",
       "       '\\xa0Hongik University',\n",
       "       'Skolkovo Institute of Science and Technology,\\xa0',\n",
       "       'Agricultural University Peshawar', 'National Textile University',\n",
       "       'FAST– National University of Computer and Emerging Sciences,Chiniot-Faisalabad',\n",
       "       'FAST– National University of Computer and Emerging Sciences,Peshawar',\n",
       "       '\\xa0Boston University', 'Brunel University',\n",
       "       'George Washington University', 'University of the Punjab',\n",
       "       '\\xa0University of Bedfordshire',\n",
       "       'University Of Southern California', 'Beihang University',\n",
       "       'Institute of Business Administration',\n",
       "       'Abdus Salam School of Mathematical Sciences,GC University',\n",
       "       'Linköping University',\n",
       "       'National College of Business Administration and Economics',\n",
       "       'Åbo Akademi University,', 'University of Central Punjab',\n",
       "       'University of Ulm', 'University of Agriculture',\n",
       "       'University of Notre Dame Indiana\\xa0',\n",
       "       'Punjab University College of Information Technology',\n",
       "       'Ilmenau University of Technology', ' Iowa State University',\n",
       "       ' University of Innsbruck', 'Vrije University, Amsterdam',\n",
       "       ' Columbia University', 'University of Freiburg',\n",
       "       ' Delft University of Technology',\n",
       "       ' University of Texas at Arlington (UTA)', ' University of Turin',\n",
       "       ' University of Central Florida', 'Saarland University',\n",
       "       'University of Central Florida', 'Oxford Brookes University',\n",
       "       'Information Technology University (ITU)',\n",
       "       'University of Canterbury', 'University of Patras',\n",
       "       'Middle East Technical University', 'University of Bristol',\n",
       "       'University of Southern California',\n",
       "       'Northeastern University,Boston', 'Purdue University',\n",
       "       'University of Plymouth', 'University of South Australia',\n",
       "       'Stanford University', 'Chalmers University of Technology',\n",
       "       'Massachusetts Institute of Technology',\n",
       "       'Sapienza University of Rome',\n",
       "       'Eindhoven University of Technology (TU/e)',\n",
       "       'United Nations University International Institute for Software Technology (UNU-IIST)',\n",
       "       'Georgetown University,DC', 'RWTH Aachen University',\n",
       "       'Columbia University',\n",
       "       'Rutgers State University of New Jersey, NJ',\n",
       "       'University of Florida', 'Technical University of Braunschweig',\n",
       "       'Carnegie Mellon University, Pittsburgh',\n",
       "       'The Ohio State University', 'National University of Singapore',\n",
       "       'University of British Columbia', 'University of Pittsburgh',\n",
       "       'The State University of New Jersey',\n",
       "       'The University of Texas at Austin',\n",
       "       'Imperial College, University of London',\n",
       "       'University of Colorado\\xa0', 'University of Bath',\n",
       "       'Tilburg University', 'Pompeu Fabra University Barcelona',\n",
       "       'University of Management and Technology',\n",
       "       'COMSATS Institute of Information Technology,Lahore',\n",
       "       'University of Agriculture, Faisalabad\\xa0',\n",
       "       'University of Engineering & Technology',\n",
       "       'University of Agriculture, Faisalabad',\n",
       "       'Fatima Jinnah Women University, Rawalpindi',\n",
       "       'Kohat University of Science & Technology, Kohat',\n",
       "       'Virtual University of Pakistan', 'Bahauddin Zakariya University',\n",
       "       'University of the Punjab,Gujranwala',\n",
       "       'Lahore College for Women University',\n",
       "       'Superior University, Lahore',\n",
       "       'Shaheed Zulfikar Ali Bhutto Institute of Science and Technology,Islamabad',\n",
       "       'University of South Florida', 'Politecnico di Milano',\n",
       "       'Abdul Wali Khan University, Mardan', 'University of Lahore',\n",
       "       'Minhaj University Lahore', 'Lahore Leads University',\n",
       "       'Middlesex University', 'Beijing Institute of Technology Beijing',\n",
       "       'Beaconhouse National University', 'Hamdard University',\n",
       "       'University Paris', 'Sindh University',\n",
       "       'NED University of Engineering And Technology',\n",
       "       'Staffordshire University', 'DePaul University, Chicago',\n",
       "       'University of Kent',\n",
       "       'Mehran University of Engineering & Technology',\n",
       "       'Quaid-e-Awam University of Engineering, Science & Technology',\n",
       "       'Shah Abdul Latif University, Khairpur',\n",
       "       'Sindh Agriculture University', 'Swansea',\n",
       "       'University of Shanghai for Science and Technology',\n",
       "       'Griffith University,Nathan Campus', 'University of Essex',\n",
       "       'Xiamen university', 'Wayne State University',\n",
       "       'The Queens University of Belfast', 'Sungkyunkwan University',\n",
       "       'Nanyang Tech University', \"Universite d'Evry Val d'Essonne\",\n",
       "       'Sir Syed University of Engineering and Technology',\n",
       "       'New York Institute of Technology', 'Fedral Urdu University',\n",
       "       'ISRA University', 'University of Karachi',\n",
       "       'South Asian University',\n",
       "       'Capital University of Science and Technology',\n",
       "       'University of Manchester Institute of Science and Technology',\n",
       "       'The University of Birmingham',\n",
       "       'Max Planck Institute for Computer Science',\n",
       "       'George Mason University', 'University of Southampton',\n",
       "       'Temple University', 'University of Bayreuth',\n",
       "       'Muroran Institute of Technology,Hokkaido',\n",
       "       'University of Bologna', 'International Islamic University',\n",
       "       'PAF-Karachi Institute of Economics and Technology',\n",
       "       'Institute of Business Administration,Sukkur',\n",
       "       'Myongji University', 'State University of New York System',\n",
       "       'SSindh Agriculture University', 'London University',\n",
       "       'Universiti Putra Malaysia Putra',\n",
       "       'University of Rome Tor Vergata', 'University of Mississippi\\xa0',\n",
       "       'University of Wales', 'University of Northampton',\n",
       "       'University of Abertay Dundee',\n",
       "       'Biztek Institute Of Business & Technology,Karachi',\n",
       "       'University of Surrey', 'Jinnah University for Women',\n",
       "       '\\xa0Nanyang Technological University',\n",
       "       'Tokyo Institute of Technology', 'NCSU',\n",
       "       'Usman Institute of Technology', 'Hanyang University, Ansan',\n",
       "       'BUKC', 'Universtiy of Karachi', 'Pace University, New York',\n",
       "       'INSA de Lyon, Rhone', 'University of Dundee',\n",
       "       'Illinois Institute of Technology',\n",
       "       'City University of Science and Technology',\n",
       "       'Usman Institute of Technology (Hamdard University)',\n",
       "       'University of Malaga', 'Manchester Metropolitan University',\n",
       "       'Kyushu University,Fukuoka',\n",
       "       'King Abdullah University of Science and Technology',\n",
       "       'INRIA Saclay Ile-de-France', 'Université de la Rochelle',\n",
       "       'University of South Brittany', 'Aston University, Birmingham',\n",
       "       'University of Agriculture Faisalabad',\n",
       "       'Hamburg University of Technology',\n",
       "       'Government College University, Faisalabad', 'JKU',\n",
       "       'University of Oviedo',\n",
       "       'Beijing University of Posts & Telecommunications',\n",
       "       'Government College University,Faisalabad',\n",
       "       'Nottingham Trent University', 'University of Glasgow',\n",
       "       'Coventry University',\n",
       "       'Riphah International University,Faisalabad',\n",
       "       'Australian National University, Caneberra',\n",
       "       'Swedish University of Agricultural Sciences, Uppsala',\n",
       "       'University of Gujrat', 'IQRA University,Islamabad',\n",
       "       'Jonkoping University', 'Colorado Technical University',\n",
       "       'Cranfield University', 'Technical University of Graz',\n",
       "       'University of York', 'Brock University Canada',\n",
       "       'University of Westminster', 'University of Saarland',\n",
       "       'The University of Queensland', 'University of Rochester',\n",
       "       'Islamia College University ',\n",
       "       'IBMS KP Agricultural University Peshawar',\n",
       "       'University of Kuala Lumpur', 'University of Regina', 'TU Wien',\n",
       "       'Swinburne University Of Technology',\n",
       "       'Institute Of Managment Sciences, Peshawar',\n",
       "       'Universiti Tun Hussein Onn Malaysia',\n",
       "       'Institute of Management Sciences, Peshawar',\n",
       "       'University of Huddersfield',\n",
       "       'University of Engineering and Technology,Peshawar',\n",
       "       'IQRA University,Karachi', 'John Moorse University, Liverpool',\n",
       "       'CECOS University of Information Technology and Emerging Sciences,Peshawar',\n",
       "       'University of the West Scotland', 'Concordia University,Montreal',\n",
       "       'JNU', 'Grenoble', 'Florida Atlantic University',\n",
       "       'Seoul National University'], dtype=object)"
      ]
     },
     "execution_count": 4,
     "metadata": {},
     "output_type": "execute_result"
    }
   ],
   "source": [
    "# TODO: Your code here\n",
    "professors['Graduated from'].unique()"
   ]
  },
  {
   "cell_type": "markdown",
   "id": "a0edb045",
   "metadata": {
    "papermill": {
     "duration": 0.007368,
     "end_time": "2022-10-30T12:51:17.882696",
     "exception": false,
     "start_time": "2022-10-30T12:51:17.875328",
     "status": "completed"
    },
    "tags": []
   },
   "source": [
    "Do you notice any inconsistencies in the data?  Can any of the inconsistencies in the data be fixed by removing white spaces at the beginning and end of cells?\n",
    "\n",
    "Once you have answered these questions, run the code cell below to get credit for your work."
   ]
  },
  {
   "cell_type": "code",
   "execution_count": 5,
   "id": "9ccfeb2c",
   "metadata": {
    "execution": {
     "iopub.execute_input": "2022-10-30T12:51:17.898188Z",
     "iopub.status.busy": "2022-10-30T12:51:17.897473Z",
     "iopub.status.idle": "2022-10-30T12:51:17.906389Z",
     "shell.execute_reply": "2022-10-30T12:51:17.905018Z"
    },
    "papermill": {
     "duration": 0.020173,
     "end_time": "2022-10-30T12:51:17.909446",
     "exception": false,
     "start_time": "2022-10-30T12:51:17.889273",
     "status": "completed"
    },
    "tags": []
   },
   "outputs": [
    {
     "data": {
      "application/javascript": [
       "parent.postMessage({\"jupyterEvent\": \"custom.exercise_interaction\", \"data\": {\"outcomeType\": 1, \"valueTowardsCompletion\": 0.3333333333333333, \"interactionType\": 1, \"questionType\": 4, \"questionId\": \"1_ExamineProvince\", \"learnToolsVersion\": \"0.3.4\", \"failureMessage\": \"\", \"exceptionClass\": \"\", \"trace\": \"\"}}, \"*\")"
      ],
      "text/plain": [
       "<IPython.core.display.Javascript object>"
      ]
     },
     "metadata": {},
     "output_type": "display_data"
    },
    {
     "data": {
      "text/markdown": [
       "<span style=\"color:#33cc33\">Correct:</span> \n",
       "\n",
       "There are inconsistencies that can be fixed by removing white spaces at the beginning and end of cells.  For instance, \"University of Central Florida\" and \" University of Central Florida\" both appear in the column."
      ],
      "text/plain": [
       "Correct: \n",
       "\n",
       "There are inconsistencies that can be fixed by removing white spaces at the beginning and end of cells.  For instance, \"University of Central Florida\" and \" University of Central Florida\" both appear in the column."
      ]
     },
     "metadata": {},
     "output_type": "display_data"
    }
   ],
   "source": [
    "# Check your answer (Run this code cell to receive credit!)\n",
    "q1.check()"
   ]
  },
  {
   "cell_type": "code",
   "execution_count": 6,
   "id": "a8bf5dac",
   "metadata": {
    "execution": {
     "iopub.execute_input": "2022-10-30T12:51:17.925953Z",
     "iopub.status.busy": "2022-10-30T12:51:17.925511Z",
     "iopub.status.idle": "2022-10-30T12:51:17.930761Z",
     "shell.execute_reply": "2022-10-30T12:51:17.929660Z"
    },
    "papermill": {
     "duration": 0.016589,
     "end_time": "2022-10-30T12:51:17.933125",
     "exception": false,
     "start_time": "2022-10-30T12:51:17.916536",
     "status": "completed"
    },
    "tags": []
   },
   "outputs": [],
   "source": [
    "# Line below will give you a hint\n",
    "#q1.hint()"
   ]
  },
  {
   "cell_type": "markdown",
   "id": "9a424a56",
   "metadata": {
    "papermill": {
     "duration": 0.006413,
     "end_time": "2022-10-30T12:51:17.946425",
     "exception": false,
     "start_time": "2022-10-30T12:51:17.940012",
     "status": "completed"
    },
    "tags": []
   },
   "source": [
    "# 2) Do some text pre-processing\n",
    "\n",
    "Convert every entry in the \"Graduated from\" column in the `professors` DataFrame to remove white spaces at the beginning and end of cells."
   ]
  },
  {
   "cell_type": "code",
   "execution_count": 7,
   "id": "3d55b055",
   "metadata": {
    "execution": {
     "iopub.execute_input": "2022-10-30T12:51:17.963762Z",
     "iopub.status.busy": "2022-10-30T12:51:17.963017Z",
     "iopub.status.idle": "2022-10-30T12:51:17.979942Z",
     "shell.execute_reply": "2022-10-30T12:51:17.978695Z"
    },
    "papermill": {
     "duration": 0.028647,
     "end_time": "2022-10-30T12:51:17.982907",
     "exception": false,
     "start_time": "2022-10-30T12:51:17.954260",
     "status": "completed"
    },
    "tags": []
   },
   "outputs": [
    {
     "data": {
      "application/javascript": [
       "parent.postMessage({\"jupyterEvent\": \"custom.exercise_interaction\", \"data\": {\"outcomeType\": 1, \"valueTowardsCompletion\": 0.3333333333333333, \"interactionType\": 1, \"questionType\": 1, \"questionId\": \"2_TextProcessing\", \"learnToolsVersion\": \"0.3.4\", \"failureMessage\": \"\", \"exceptionClass\": \"\", \"trace\": \"\"}}, \"*\")"
      ],
      "text/plain": [
       "<IPython.core.display.Javascript object>"
      ]
     },
     "metadata": {},
     "output_type": "display_data"
    },
    {
     "data": {
      "text/markdown": [
       "<span style=\"color:#33cc33\">Correct</span>"
      ],
      "text/plain": [
       "Correct"
      ]
     },
     "metadata": {},
     "output_type": "display_data"
    }
   ],
   "source": [
    "# TODO: Your code here\n",
    "professors['Graduated from'] = professors['Graduated from'].str.lstrip()\n",
    "professors['Graduated from'] = professors['Graduated from'].str.rstrip()\n",
    "# Check your answer\n",
    "q2.check()"
   ]
  },
  {
   "cell_type": "code",
   "execution_count": 8,
   "id": "3b3c45ed",
   "metadata": {
    "execution": {
     "iopub.execute_input": "2022-10-30T12:51:17.998577Z",
     "iopub.status.busy": "2022-10-30T12:51:17.998122Z",
     "iopub.status.idle": "2022-10-30T12:51:18.008291Z",
     "shell.execute_reply": "2022-10-30T12:51:18.007058Z"
    },
    "papermill": {
     "duration": 0.021445,
     "end_time": "2022-10-30T12:51:18.011176",
     "exception": false,
     "start_time": "2022-10-30T12:51:17.989731",
     "status": "completed"
    },
    "tags": []
   },
   "outputs": [
    {
     "data": {
      "application/javascript": [
       "parent.postMessage({\"jupyterEvent\": \"custom.exercise_interaction\", \"data\": {\"interactionType\": 2, \"questionType\": 1, \"questionId\": \"2_TextProcessing\", \"learnToolsVersion\": \"0.3.4\", \"valueTowardsCompletion\": 0.0, \"failureMessage\": \"\", \"exceptionClass\": \"\", \"trace\": \"\", \"outcomeType\": 4}}, \"*\")"
      ],
      "text/plain": [
       "<IPython.core.display.Javascript object>"
      ]
     },
     "metadata": {},
     "output_type": "display_data"
    },
    {
     "data": {
      "text/markdown": [
       "<span style=\"color:#3366cc\">Hint:</span> In the tutorial, you did the same operation on a different column."
      ],
      "text/plain": [
       "Hint: In the tutorial, you did the same operation on a different column."
      ]
     },
     "metadata": {},
     "output_type": "display_data"
    }
   ],
   "source": [
    "# Lines below will give you a hint or solution code\n",
    "q2.hint()\n",
    "#q2.solution()"
   ]
  },
  {
   "cell_type": "markdown",
   "id": "c19d0895",
   "metadata": {
    "papermill": {
     "duration": 0.006794,
     "end_time": "2022-10-30T12:51:18.025298",
     "exception": false,
     "start_time": "2022-10-30T12:51:18.018504",
     "status": "completed"
    },
    "tags": []
   },
   "source": [
    "# 3) Continue working with countries\n",
    "\n",
    "In the tutorial, we focused on cleaning up inconsistencies in the \"Country\" column.  Run the code cell below to view the list of unique values that we ended with."
   ]
  },
  {
   "cell_type": "code",
   "execution_count": 9,
   "id": "02757521",
   "metadata": {
    "execution": {
     "iopub.execute_input": "2022-10-30T12:51:18.042601Z",
     "iopub.status.busy": "2022-10-30T12:51:18.042187Z",
     "iopub.status.idle": "2022-10-30T12:51:18.052397Z",
     "shell.execute_reply": "2022-10-30T12:51:18.050976Z"
    },
    "papermill": {
     "duration": 0.021934,
     "end_time": "2022-10-30T12:51:18.054979",
     "exception": false,
     "start_time": "2022-10-30T12:51:18.033045",
     "status": "completed"
    },
    "tags": []
   },
   "outputs": [
    {
     "data": {
      "text/plain": [
       "array(['australia', 'austria', 'canada', 'china', 'finland', 'france',\n",
       "       'germany', 'greece', 'hongkong', 'ireland', 'italy', 'japan',\n",
       "       'macau', 'malaysia', 'mauritius', 'netherland', 'new zealand',\n",
       "       'norway', 'pakistan', 'portugal', 'russian federation',\n",
       "       'saudi arabia', 'scotland', 'singapore', 'south korea', 'spain',\n",
       "       'sweden', 'thailand', 'turkey', 'uk', 'urbana', 'usa', 'usofa'],\n",
       "      dtype=object)"
      ]
     },
     "execution_count": 9,
     "metadata": {},
     "output_type": "execute_result"
    }
   ],
   "source": [
    "# get all the unique values in the 'City' column\n",
    "countries = professors['Country'].unique()\n",
    "\n",
    "# sort them alphabetically and then take a closer look\n",
    "countries.sort()\n",
    "countries"
   ]
  },
  {
   "cell_type": "markdown",
   "id": "b9c1d3e3",
   "metadata": {
    "papermill": {
     "duration": 0.007443,
     "end_time": "2022-10-30T12:51:18.070006",
     "exception": false,
     "start_time": "2022-10-30T12:51:18.062563",
     "status": "completed"
    },
    "tags": []
   },
   "source": [
    "Take another look at the \"Country\" column and see if there's any more data cleaning we need to do.\n",
    "\n",
    "It looks like 'usa' and 'usofa' should be the same country.  Correct the \"Country\" column in the dataframe to replace 'usofa' with 'usa'.\n",
    "\n",
    "**Use the most recent version of the DataFrame (with the whitespaces at the beginning and end of cells removed) from question 2.**"
   ]
  },
  {
   "cell_type": "code",
   "execution_count": 10,
   "id": "9e6d6802",
   "metadata": {
    "execution": {
     "iopub.execute_input": "2022-10-30T12:51:18.086696Z",
     "iopub.status.busy": "2022-10-30T12:51:18.086270Z",
     "iopub.status.idle": "2022-10-30T12:51:18.096918Z",
     "shell.execute_reply": "2022-10-30T12:51:18.095479Z"
    },
    "papermill": {
     "duration": 0.022321,
     "end_time": "2022-10-30T12:51:18.099814",
     "exception": false,
     "start_time": "2022-10-30T12:51:18.077493",
     "status": "completed"
    },
    "tags": []
   },
   "outputs": [
    {
     "data": {
      "text/plain": [
       "[('usofa', 100),\n",
       " ('usa', 75),\n",
       " ('austria', 50),\n",
       " ('scotland', 46),\n",
       " ('australia', 43),\n",
       " ('spain', 40),\n",
       " ('france', 36),\n",
       " ('norway', 36),\n",
       " ('urbana', 36),\n",
       " ('finland', 33)]"
      ]
     },
     "execution_count": 10,
     "metadata": {},
     "output_type": "execute_result"
    }
   ],
   "source": [
    "matches = fuzzywuzzy.process.extract(\"usofa\", countries, limit=10, scorer=fuzzywuzzy.fuzz.token_sort_ratio)\n",
    "matches"
   ]
  },
  {
   "cell_type": "code",
   "execution_count": 11,
   "id": "71588a4a",
   "metadata": {
    "execution": {
     "iopub.execute_input": "2022-10-30T12:51:18.118855Z",
     "iopub.status.busy": "2022-10-30T12:51:18.118346Z",
     "iopub.status.idle": "2022-10-30T12:51:18.151731Z",
     "shell.execute_reply": "2022-10-30T12:51:18.150292Z"
    },
    "papermill": {
     "duration": 0.04657,
     "end_time": "2022-10-30T12:51:18.154559",
     "exception": false,
     "start_time": "2022-10-30T12:51:18.107989",
     "status": "completed"
    },
    "tags": []
   },
   "outputs": [
    {
     "data": {
      "text/html": [
       "<div>\n",
       "<style scoped>\n",
       "    .dataframe tbody tr th:only-of-type {\n",
       "        vertical-align: middle;\n",
       "    }\n",
       "\n",
       "    .dataframe tbody tr th {\n",
       "        vertical-align: top;\n",
       "    }\n",
       "\n",
       "    .dataframe thead th {\n",
       "        text-align: right;\n",
       "    }\n",
       "</style>\n",
       "<table border=\"1\" class=\"dataframe\">\n",
       "  <thead>\n",
       "    <tr style=\"text-align: right;\">\n",
       "      <th></th>\n",
       "      <th>Unnamed: 0</th>\n",
       "      <th>S#</th>\n",
       "      <th>Teacher Name</th>\n",
       "      <th>University Currently Teaching</th>\n",
       "      <th>Department</th>\n",
       "      <th>Province University Located</th>\n",
       "      <th>Designation</th>\n",
       "      <th>Terminal Degree</th>\n",
       "      <th>Graduated from</th>\n",
       "      <th>Country</th>\n",
       "      <th>Year</th>\n",
       "      <th>Area of Specialization/Research Interests</th>\n",
       "      <th>Other Information</th>\n",
       "    </tr>\n",
       "  </thead>\n",
       "  <tbody>\n",
       "    <tr>\n",
       "      <th>32</th>\n",
       "      <td>135</td>\n",
       "      <td>136</td>\n",
       "      <td>Saif Ur Rehman Malik</td>\n",
       "      <td>COMSATS, Islamabad Campus</td>\n",
       "      <td>Computer Science</td>\n",
       "      <td>Capital</td>\n",
       "      <td>Assistant Professor</td>\n",
       "      <td>Phd</td>\n",
       "      <td>North Dakota State University</td>\n",
       "      <td>usofa</td>\n",
       "      <td>NaN</td>\n",
       "      <td>Formal Methods (verification, modeling, and a...</td>\n",
       "      <td>NaN</td>\n",
       "    </tr>\n",
       "    <tr>\n",
       "      <th>41</th>\n",
       "      <td>149</td>\n",
       "      <td>150</td>\n",
       "      <td>Assad Abbas</td>\n",
       "      <td>COMSATS, Islamabad Campus</td>\n",
       "      <td>Computer Science</td>\n",
       "      <td>Capital</td>\n",
       "      <td>Assistant Professor</td>\n",
       "      <td>PhD</td>\n",
       "      <td>North Dakota State University</td>\n",
       "      <td>usofa</td>\n",
       "      <td>2016.0</td>\n",
       "      <td>Smart Health, Big Data Analytics, Recommendati...</td>\n",
       "      <td>NaN</td>\n",
       "    </tr>\n",
       "    <tr>\n",
       "      <th>57</th>\n",
       "      <td>233</td>\n",
       "      <td>234</td>\n",
       "      <td>Muazzam A Khan Khattak</td>\n",
       "      <td>National University of Sciences and Technology</td>\n",
       "      <td>Computing</td>\n",
       "      <td>Capital</td>\n",
       "      <td>Assistant Professor</td>\n",
       "      <td>PhD</td>\n",
       "      <td>University of Missouri, KC</td>\n",
       "      <td>usofa</td>\n",
       "      <td>2016.0</td>\n",
       "      <td>Wireless Sensor Networks, IOT, Image Encryptio...</td>\n",
       "      <td>NaN</td>\n",
       "    </tr>\n",
       "    <tr>\n",
       "      <th>75</th>\n",
       "      <td>253</td>\n",
       "      <td>254</td>\n",
       "      <td>Muhammad Saud Khan</td>\n",
       "      <td>RIPHAH International</td>\n",
       "      <td>Computing</td>\n",
       "      <td>Capital</td>\n",
       "      <td>Assistant Professor</td>\n",
       "      <td>MS</td>\n",
       "      <td>University of Central Missouri</td>\n",
       "      <td>usofa</td>\n",
       "      <td>1997.0</td>\n",
       "      <td>Software Engineering Practices, Web Developmen...</td>\n",
       "      <td>PhD in progress</td>\n",
       "    </tr>\n",
       "    <tr>\n",
       "      <th>81</th>\n",
       "      <td>272</td>\n",
       "      <td>273</td>\n",
       "      <td>Hammad Naveed</td>\n",
       "      <td>FAST-NU(Islamabad)</td>\n",
       "      <td>Computer Science</td>\n",
       "      <td>Capital</td>\n",
       "      <td>Associate Professor</td>\n",
       "      <td>PhD</td>\n",
       "      <td>University of Illinois</td>\n",
       "      <td>usofa</td>\n",
       "      <td>2012.0</td>\n",
       "      <td>Computational Structural Biology. He is partic...</td>\n",
       "      <td>NaN</td>\n",
       "    </tr>\n",
       "    <tr>\n",
       "      <th>200</th>\n",
       "      <td>426</td>\n",
       "      <td>427</td>\n",
       "      <td>Ms. Alyia Amir</td>\n",
       "      <td>Bahria University,Islamabad</td>\n",
       "      <td>Computer Science</td>\n",
       "      <td>Capital</td>\n",
       "      <td>Assistant Professor</td>\n",
       "      <td>MS</td>\n",
       "      <td>California State University</td>\n",
       "      <td>usofa</td>\n",
       "      <td>2003.0</td>\n",
       "      <td>Data Mining</td>\n",
       "      <td>NaN</td>\n",
       "    </tr>\n",
       "    <tr>\n",
       "      <th>262</th>\n",
       "      <td>493</td>\n",
       "      <td>494</td>\n",
       "      <td>Fayyaz-ul-Amir Afsar Minhas</td>\n",
       "      <td>Pakistan Institute of Engineering and Applied ...</td>\n",
       "      <td>Computer and Information Sciences</td>\n",
       "      <td>Capital</td>\n",
       "      <td>NaN</td>\n",
       "      <td>PhD</td>\n",
       "      <td>Colorado State University</td>\n",
       "      <td>usofa</td>\n",
       "      <td>NaN</td>\n",
       "      <td>Machine Learning (Artificial &amp; Computational I...</td>\n",
       "      <td>NaN</td>\n",
       "    </tr>\n",
       "    <tr>\n",
       "      <th>267</th>\n",
       "      <td>512</td>\n",
       "      <td>513</td>\n",
       "      <td>Junaid Akhtar</td>\n",
       "      <td>NAML-Mianwali</td>\n",
       "      <td>Computer Science</td>\n",
       "      <td>Punjab</td>\n",
       "      <td>Assistant Professor</td>\n",
       "      <td>Post Doc</td>\n",
       "      <td>University of Virginia</td>\n",
       "      <td>usofa</td>\n",
       "      <td>2014.0</td>\n",
       "      <td>Computational Semiotics,Sentiment Analysis,Evo...</td>\n",
       "      <td>NaN</td>\n",
       "    </tr>\n",
       "    <tr>\n",
       "      <th>344</th>\n",
       "      <td>763</td>\n",
       "      <td>764</td>\n",
       "      <td>Ahmad Shabbar Kazmi</td>\n",
       "      <td>University of Central Punjab</td>\n",
       "      <td>Computer Science</td>\n",
       "      <td>Punjab</td>\n",
       "      <td>Head of Department</td>\n",
       "      <td>PhD</td>\n",
       "      <td>Boston University</td>\n",
       "      <td>usofa</td>\n",
       "      <td>1999.0</td>\n",
       "      <td>Neural Networks</td>\n",
       "      <td>NaN</td>\n",
       "    </tr>\n",
       "    <tr>\n",
       "      <th>346</th>\n",
       "      <td>766</td>\n",
       "      <td>767</td>\n",
       "      <td>Shafiq Ur Rahman</td>\n",
       "      <td>University of Central Punjab</td>\n",
       "      <td>Computer Science</td>\n",
       "      <td>Punjab</td>\n",
       "      <td>Associate Professor</td>\n",
       "      <td>PhD</td>\n",
       "      <td>George Washington University</td>\n",
       "      <td>usofa</td>\n",
       "      <td>1993.0</td>\n",
       "      <td>Natural Language Processing (Morphological Ana...</td>\n",
       "      <td>NaN</td>\n",
       "    </tr>\n",
       "  </tbody>\n",
       "</table>\n",
       "</div>"
      ],
      "text/plain": [
       "     Unnamed: 0   S#                 Teacher Name  \\\n",
       "32          135  136         Saif Ur Rehman Malik   \n",
       "41          149  150                  Assad Abbas   \n",
       "57          233  234       Muazzam A Khan Khattak   \n",
       "75          253  254           Muhammad Saud Khan   \n",
       "81          272  273                Hammad Naveed   \n",
       "200         426  427               Ms. Alyia Amir   \n",
       "262         493  494  Fayyaz-ul-Amir Afsar Minhas   \n",
       "267         512  513                Junaid Akhtar   \n",
       "344         763  764          Ahmad Shabbar Kazmi   \n",
       "346         766  767             Shafiq Ur Rahman   \n",
       "\n",
       "                         University Currently Teaching  \\\n",
       "32                           COMSATS, Islamabad Campus   \n",
       "41                           COMSATS, Islamabad Campus   \n",
       "57      National University of Sciences and Technology   \n",
       "75                                RIPHAH International   \n",
       "81                                  FAST-NU(Islamabad)   \n",
       "200                        Bahria University,Islamabad   \n",
       "262  Pakistan Institute of Engineering and Applied ...   \n",
       "267                                      NAML-Mianwali   \n",
       "344                       University of Central Punjab   \n",
       "346                       University of Central Punjab   \n",
       "\n",
       "                            Department Province University Located  \\\n",
       "32                    Computer Science                     Capital   \n",
       "41                    Computer Science                     Capital   \n",
       "57                           Computing                     Capital   \n",
       "75                           Computing                     Capital   \n",
       "81                    Computer Science                     Capital   \n",
       "200                   Computer Science                     Capital   \n",
       "262  Computer and Information Sciences                     Capital   \n",
       "267                   Computer Science                      Punjab   \n",
       "344                   Computer Science                      Punjab   \n",
       "346                   Computer Science                      Punjab   \n",
       "\n",
       "             Designation Terminal Degree                  Graduated from  \\\n",
       "32   Assistant Professor             Phd   North Dakota State University   \n",
       "41   Assistant Professor             PhD   North Dakota State University   \n",
       "57   Assistant Professor             PhD      University of Missouri, KC   \n",
       "75   Assistant Professor              MS  University of Central Missouri   \n",
       "81   Associate Professor             PhD          University of Illinois   \n",
       "200  Assistant Professor              MS     California State University   \n",
       "262                  NaN             PhD       Colorado State University   \n",
       "267  Assistant Professor        Post Doc          University of Virginia   \n",
       "344   Head of Department             PhD               Boston University   \n",
       "346  Associate Professor             PhD    George Washington University   \n",
       "\n",
       "    Country    Year          Area of Specialization/Research Interests  \\\n",
       "32    usofa     NaN   Formal Methods (verification, modeling, and a...   \n",
       "41    usofa  2016.0  Smart Health, Big Data Analytics, Recommendati...   \n",
       "57    usofa  2016.0  Wireless Sensor Networks, IOT, Image Encryptio...   \n",
       "75    usofa  1997.0  Software Engineering Practices, Web Developmen...   \n",
       "81    usofa  2012.0  Computational Structural Biology. He is partic...   \n",
       "200   usofa  2003.0                                        Data Mining   \n",
       "262   usofa     NaN  Machine Learning (Artificial & Computational I...   \n",
       "267   usofa  2014.0  Computational Semiotics,Sentiment Analysis,Evo...   \n",
       "344   usofa  1999.0                                    Neural Networks   \n",
       "346   usofa  1993.0  Natural Language Processing (Morphological Ana...   \n",
       "\n",
       "    Other Information  \n",
       "32                NaN  \n",
       "41                NaN  \n",
       "57                NaN  \n",
       "75   PhD in progress   \n",
       "81                NaN  \n",
       "200               NaN  \n",
       "262               NaN  \n",
       "267               NaN  \n",
       "344               NaN  \n",
       "346               NaN  "
      ]
     },
     "execution_count": 11,
     "metadata": {},
     "output_type": "execute_result"
    }
   ],
   "source": [
    "professors[professors['Country'] == 'usofa']"
   ]
  },
  {
   "cell_type": "code",
   "execution_count": 12,
   "id": "e0d53662",
   "metadata": {
    "execution": {
     "iopub.execute_input": "2022-10-30T12:51:18.173981Z",
     "iopub.status.busy": "2022-10-30T12:51:18.173463Z",
     "iopub.status.idle": "2022-10-30T12:51:18.194629Z",
     "shell.execute_reply": "2022-10-30T12:51:18.192885Z"
    },
    "papermill": {
     "duration": 0.033538,
     "end_time": "2022-10-30T12:51:18.197061",
     "exception": false,
     "start_time": "2022-10-30T12:51:18.163523",
     "status": "completed"
    },
    "tags": []
   },
   "outputs": [
    {
     "name": "stdout",
     "output_type": "stream",
     "text": [
      "All done!\n"
     ]
    },
    {
     "data": {
      "application/javascript": [
       "parent.postMessage({\"jupyterEvent\": \"custom.exercise_interaction\", \"data\": {\"outcomeType\": 1, \"valueTowardsCompletion\": 0.3333333333333333, \"interactionType\": 1, \"questionType\": 1, \"questionId\": \"3_WorkingWithCities\", \"learnToolsVersion\": \"0.3.4\", \"failureMessage\": \"\", \"exceptionClass\": \"\", \"trace\": \"\"}}, \"*\")"
      ],
      "text/plain": [
       "<IPython.core.display.Javascript object>"
      ]
     },
     "metadata": {},
     "output_type": "display_data"
    },
    {
     "data": {
      "text/markdown": [
       "<span style=\"color:#33cc33\">Correct</span>"
      ],
      "text/plain": [
       "Correct"
      ]
     },
     "metadata": {},
     "output_type": "display_data"
    }
   ],
   "source": [
    "# TODO: Your code here!\n",
    "def replace_matches_in_column(df, column, string_to_match, min_ratio = 47):\n",
    "    # get a list of unique strings\n",
    "    strings = df[column].unique()\n",
    "    \n",
    "    # get the top 10 closest matches to our input string\n",
    "    matches = fuzzywuzzy.process.extract(string_to_match, strings, \n",
    "                                         limit=10, scorer=fuzzywuzzy.fuzz.token_sort_ratio)\n",
    "\n",
    "    # only get matches with a ratio > 90\n",
    "    close_matches = [matches[0] for matches in matches if matches[1] >= min_ratio]\n",
    "\n",
    "    # get the rows of all the close matches in our dataframe\n",
    "    rows_with_matches = df[column].isin(close_matches)\n",
    "\n",
    "    # replace all rows with close matches with the input matches \n",
    "    df.loc[rows_with_matches, column] = string_to_match\n",
    "    \n",
    "    # let us know the function's done\n",
    "    print(\"All done!\")\n",
    "\n",
    "    \n",
    "    \n",
    "\n",
    "replace_matches_in_column(df=professors, column='Country', string_to_match=\"usa\", min_ratio=70)\n",
    "# Check your answer\n",
    "q3.check()"
   ]
  },
  {
   "cell_type": "code",
   "execution_count": 13,
   "id": "eb4f6c3d",
   "metadata": {
    "execution": {
     "iopub.execute_input": "2022-10-30T12:51:18.217677Z",
     "iopub.status.busy": "2022-10-30T12:51:18.217213Z",
     "iopub.status.idle": "2022-10-30T12:51:18.233559Z",
     "shell.execute_reply": "2022-10-30T12:51:18.232196Z"
    },
    "papermill": {
     "duration": 0.02983,
     "end_time": "2022-10-30T12:51:18.236690",
     "exception": false,
     "start_time": "2022-10-30T12:51:18.206860",
     "status": "completed"
    },
    "tags": []
   },
   "outputs": [
    {
     "data": {
      "application/javascript": [
       "parent.postMessage({\"jupyterEvent\": \"custom.exercise_interaction\", \"data\": {\"interactionType\": 2, \"questionType\": 1, \"questionId\": \"3_WorkingWithCities\", \"learnToolsVersion\": \"0.3.4\", \"valueTowardsCompletion\": 0.0, \"failureMessage\": \"\", \"exceptionClass\": \"\", \"trace\": \"\", \"outcomeType\": 4}}, \"*\")"
      ],
      "text/plain": [
       "<IPython.core.display.Javascript object>"
      ]
     },
     "metadata": {},
     "output_type": "display_data"
    },
    {
     "data": {
      "text/markdown": [
       "<span style=\"color:#3366cc\">Hint:</span> Use the `replace_matches_in_column()` function defined above."
      ],
      "text/plain": [
       "Hint: Use the `replace_matches_in_column()` function defined above."
      ]
     },
     "metadata": {},
     "output_type": "display_data"
    },
    {
     "data": {
      "application/javascript": [
       "parent.postMessage({\"jupyterEvent\": \"custom.exercise_interaction\", \"data\": {\"interactionType\": 3, \"questionType\": 1, \"questionId\": \"3_WorkingWithCities\", \"learnToolsVersion\": \"0.3.4\", \"valueTowardsCompletion\": 0.0, \"failureMessage\": \"\", \"exceptionClass\": \"\", \"trace\": \"\", \"outcomeType\": 4}}, \"*\")"
      ],
      "text/plain": [
       "<IPython.core.display.Javascript object>"
      ]
     },
     "metadata": {},
     "output_type": "display_data"
    },
    {
     "data": {
      "text/markdown": [
       "<span style=\"color:#33cc99\">Solution:</span> \n",
       "```python\n",
       "matches = fuzzywuzzy.process.extract(\"usa\", countries, limit=10, scorer=fuzzywuzzy.fuzz.token_sort_ratio)\n",
       "replace_matches_in_column(df=professors, column='Country', string_to_match=\"usa\", min_ratio=70)\n",
       "\n",
       "```"
      ],
      "text/plain": [
       "Solution: \n",
       "```python\n",
       "matches = fuzzywuzzy.process.extract(\"usa\", countries, limit=10, scorer=fuzzywuzzy.fuzz.token_sort_ratio)\n",
       "replace_matches_in_column(df=professors, column='Country', string_to_match=\"usa\", min_ratio=70)\n",
       "\n",
       "```"
      ]
     },
     "metadata": {},
     "output_type": "display_data"
    }
   ],
   "source": [
    "# Lines below will give you a hint or solution code\n",
    "q3.hint()\n",
    "q3.solution()"
   ]
  },
  {
   "cell_type": "markdown",
   "id": "ad56da47",
   "metadata": {
    "papermill": {
     "duration": 0.011279,
     "end_time": "2022-10-30T12:51:18.260684",
     "exception": false,
     "start_time": "2022-10-30T12:51:18.249405",
     "status": "completed"
    },
    "tags": []
   },
   "source": [
    "# Congratulations!\n",
    "\n",
    "Congratulations for completing the **Data Cleaning** course on Kaggle Learn!\n",
    "\n",
    "To practice your new skills, you're encouraged to download and investigate some of [Kaggle's Datasets](https://www.kaggle.com/datasets)."
   ]
  },
  {
   "cell_type": "markdown",
   "id": "f340eb41",
   "metadata": {
    "papermill": {
     "duration": 0.011352,
     "end_time": "2022-10-30T12:51:18.284495",
     "exception": false,
     "start_time": "2022-10-30T12:51:18.273143",
     "status": "completed"
    },
    "tags": []
   },
   "source": [
    "---\n",
    "\n",
    "\n",
    "\n",
    "\n",
    "*Have questions or comments? Visit the [course discussion forum](https://www.kaggle.com/learn/data-cleaning/discussion) to chat with other learners.*"
   ]
  }
 ],
 "metadata": {
  "kernelspec": {
   "display_name": "Python 3",
   "language": "python",
   "name": "python3"
  },
  "language_info": {
   "codemirror_mode": {
    "name": "ipython",
    "version": 3
   },
   "file_extension": ".py",
   "mimetype": "text/x-python",
   "name": "python",
   "nbconvert_exporter": "python",
   "pygments_lexer": "ipython3",
   "version": "3.7.12"
  },
  "papermill": {
   "default_parameters": {},
   "duration": 11.293156,
   "end_time": "2022-10-30T12:51:19.017234",
   "environment_variables": {},
   "exception": null,
   "input_path": "__notebook__.ipynb",
   "output_path": "__notebook__.ipynb",
   "parameters": {},
   "start_time": "2022-10-30T12:51:07.724078",
   "version": "2.3.4"
  }
 },
 "nbformat": 4,
 "nbformat_minor": 5
}
